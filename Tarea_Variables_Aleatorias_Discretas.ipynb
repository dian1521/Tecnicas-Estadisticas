{
 "cells": [
  {
   "cell_type": "markdown",
   "id": "d50d92d5",
   "metadata": {
    "id": "d50d92d5"
   },
   "source": [
    "# Variables aleatorias discretas"
   ]
  },
  {
   "cell_type": "code",
   "execution_count": 1,
   "id": "5I0QecDlX8mj",
   "metadata": {
    "id": "5I0QecDlX8mj"
   },
   "outputs": [],
   "source": [
    "import numpy as np #Importamos el modulo NuumPy\n",
    "import numpy.random as npr #Importamosun submódulo de NumPy que se utiliza para generar números aleatorios.\n",
    "\n",
    "import scipy.stats as sps #Impotamos el modulo SciPy\n",
    "from scipy.stats import randint #Para trabajar con una distribución uniforme discreta en un rango de enteros. funcion randit\n",
    "\n",
    "import matplotlib.pyplot as plt #Matplotlib es una biblioteca de visualización de datos en Python.\n",
    "\n",
    "import random #random es el módulo estándar de Python para la generación de números aleatorios.\n",
    "\n",
    "import pandas as pd\n",
    "\n",
    "from itertools import product #para el producto cartesiano\n",
    "from fractions import Fraction\n",
    "from collections import defaultdict\n",
    "\n",
    "#warnings es un módulo de Python que permite gestionar y controlar los mensajes de advertencia (warnings) que el código podría generar.\n",
    "import warnings\n",
    "warnings.filterwarnings(\"ignore\")"
   ]
  },
  {
   "cell_type": "markdown",
   "id": "bd499bb5",
   "metadata": {
    "id": "bd499bb5"
   },
   "source": [
    "# Variable aleatoria uniforme discreta\n",
    "\n",
    "Una variable aleatoria $X$ tiene distribución uniforme discreta en el conjunto $\\{x_{1},\\dots,x_{n}\\}$ si su función de masa de probabilidades está dada por\n",
    "$$f_{X}(k)=\\mathbb{P}(X=k)=\\begin{cases}\n",
    "\\frac{1}{n} &\\quad \\text{si } k\\in\\{x_{1},\\dots,x_{n}\\} \\\\\n",
    "0 &\\quad \\text{en otro caso}\n",
    "\\end{cases}$$\n",
    "\n",
    "**Notación:** $X\\sim Unif(x_{1},\\dots,x_{n}).$\n",
    "\n",
    "Se llama uniforme porque cada uno de los posibles valores de $X$ tienen la misma probabilidad.\n",
    "\n",
    "Si $X\\sim Unif(x_{1},\\dots,x_{n})$, en este caso, se tiene:\n",
    "\t$$\\mathbb{E}[X] = \\sum_{k}kf_{X}(k)=\\frac{x_n + x_1}{2}.$$\n",
    "\ty\n",
    "\t$$\\text{Var}(X) = \\mathbb{E}[(X-\\mathbb{E}[X])^{2}] =\\sum_{k}(k-\\mathbb{E}[X])^{2}f_{X}(k)=\\frac{(x_n - x_1+1)^2-1}{12}$$\n",
    "\n"
   ]
  },
  {
   "cell_type": "markdown",
   "id": "e68457bc",
   "metadata": {},
   "source": [
    "---"
   ]
  },
  {
   "cell_type": "markdown",
   "id": "d4957480",
   "metadata": {},
   "source": [
    "$\\color{red}{\\text{Ejercicio 1.}}$ Verifica que, en efecto, la esperanza y varianza de una variable aleatoria geométrica está dada como antes. "
   ]
  },
  {
   "cell_type": "markdown",
   "id": "154b25d8",
   "metadata": {},
   "source": [
    "Si $\\displaystyle X$ es una variable aleatoria tal que $\\displaystyle X \\sim \\operatorname{U} ⁡(a,b)$  entonces la variable aleatoria $\\displaystyle X$ satisface las siguientes propiedades:\n",
    "\n",
    "## Esperanza\n",
    "\n",
    "La **esperanza** de la variable aleatoria $\\displaystyle X$ es:\n",
    "\n",
    "\n",
    "$\\displaystyle \\operatorname {E} [X]={\\frac {a+b}{2}}$\n",
    "\n",
    "Esta se demuestra fácilmente utilizando la definición de esperanza matemática\n",
    "\n",
    "\n",
    "$\\displaystyle \\operatorname {E} [X] = \\int _{a}^{b}{\\frac {x}{b-a}}dx$\n",
    "\n",
    "$\\displaystyle \\operatorname {E} [X]  ={\\frac {1}{b-a}}{\\frac {x^{2}}{2}}{\\bigg |}_{a}^{b}$\n",
    "\n",
    "\n",
    "$\\displaystyle \\operatorname {E} [X]  ={\\frac {b^{2}-a^{2}}{2(b-a)}}$\n",
    "\n",
    "\n",
    "$\\displaystyle \\operatorname {E} [X]  ={\\frac {(b-a)(b+a)}{2(b-a)}}$\n",
    "\n",
    "\n",
    "$\\displaystyle \\operatorname {E} [X]  ={\\frac {a+b}{2}}$"
   ]
  },
  {
   "cell_type": "markdown",
   "id": "9803d570",
   "metadata": {},
   "source": [
    "## Varianza"
   ]
  },
  {
   "cell_type": "markdown",
   "id": "6dd15abe",
   "metadata": {},
   "source": [
    "$\\displaystyle \\operatorname {V} [X] = \\int _{-\\infty}^{\\infty}{x^{2} f(x)}dx - \\operatorname {E^{2}} (X)$\n",
    "\n",
    "$\\displaystyle \\operatorname {V} [X] = \\int _{a}^{b}{\\frac {1}{b-a}x^{2}}dx - \\frac {(a+b)^{2}}{4}$\n",
    "\n",
    "$\\displaystyle \\operatorname {V} [X]  ={\\frac {x^{3}}{3(b-a)}}{\\bigg |}_{x = a}^{x = b} - \\frac {a^{2} + 2ab + b^{2}}{4}$\n",
    "\n",
    "$\\displaystyle \\operatorname {V} [X]  ={\\frac {b^{3} - a^{3}}{3(b-a)}} - \\frac {a^{2} + 2ab + b^{2}}{4}$\n",
    "\n",
    "$\\displaystyle \\operatorname {V} [X]  ={\\frac {b^{2} + ab + a^{2}}{3}} - \\frac {a^{2} + 2ab + b^{2}}{4}$\n",
    "\n",
    "$\\displaystyle \\operatorname {V} [X]  ={\\frac {(b - a)^{2}}{12}}$"
   ]
  },
  {
   "cell_type": "markdown",
   "id": "2e333e33",
   "metadata": {},
   "source": [
    "---"
   ]
  },
  {
   "cell_type": "markdown",
   "id": "33d4fbc5",
   "metadata": {},
   "source": [
    "**Ejemplo** Se lleva a cabo una rifa donde los boletos están enumerados del $00$ al $99$. Si $Y$ es la variable aleatoria definida como el número del boleto ganador, entonces:  \n",
    "$$\\mathbb{P}(Y=k)=\\begin{cases}\n",
    "\t\\frac{1}{100} &\\quad \\text{si } k=00,01,\\dots,99 \\\\\n",
    "\t0 &\\quad \\text{en otro caso}\n",
    "\\end{cases}$$\n",
    "Consideremos que el premio de la rifa se determina a partir del número premiado de la siguiente forma: $X=Y+1$, donde $X$ es el monto del premio en pesos y $Y$ es el número premiado, entonces $X$ es una variable aleatoria, pues es una función de $Y$, y además se tiene\n",
    "\t$$f_{X}(k)=\\begin{cases}\n",
    "\t\t\\frac{1}{100} &\\quad \\text{si } x=1,2,\\dots,100 \\\\\n",
    "\t\t0 &\\quad \\text{en otro caso}\n",
    "\t\\end{cases}$$\n",
    "Entonces, la esperanza y varianza de $X$ están dados por:\n",
    "\t$$\\mathbb{E}[X] = \\sum_{k=1}^{100}k\\left(\\frac{1}{100}\\right) = \\frac{1}{100}\\sum_{k=1}^{100}k = \\frac{1}{100}\\left[\\frac{100(100+1)}{2}\\right] = 50.5$$\n",
    "\ty\n",
    "\t$$\\text{Var}(X) = \\mathbb{E}[X^{2}]-(\\mathbb{E}[X])^{2} = \\sum_{k=1}^{100}k^{2}\\left(\\frac{1}{100}\\right)-(50.5)^{2} = 833.25$$   \n",
    "\n",
    "\n",
    "    \n",
    "Supongamos que nos interesa calcular la probabilidad de que el premio sea mayor a $\\$80$, entonces\n",
    "\t$$\\mathbb{P}(X>80) = \\sum_{k=81}^{100}\\frac{1}{100} = \\frac{20}{100} = 0.2$$\n",
    "\tSu función de distribución esta dada por:\n",
    "\t$$F_{X}(x)=\\mathbb{P}(X\\le x)=\\begin{cases}\n",
    "\t\t0 &\\quad \\text{si } x<1 \\\\\n",
    "\t\t\\frac{x}{100} &\\quad \\text{si } x=1,2,\\dots,100\\\\ 1 &\\quad \\text{si } x>100\n",
    "\t\\end{cases}$$   "
   ]
  },
  {
   "cell_type": "markdown",
   "id": "48e9ef5d",
   "metadata": {},
   "source": [
    "----"
   ]
  },
  {
   "cell_type": "markdown",
   "id": "UAQy3d5scoHX",
   "metadata": {
    "id": "UAQy3d5scoHX"
   },
   "source": [
    "$\\color{red}{\\text{Ejercicio 2.}}$ Dibuja a la función de distribución acumulada de la variable aleatoria:\n",
    "\n",
    "> Agregar bloque entrecomillado\n",
    "\n",
    "\n",
    "$$S:\\{1,2,3,4,5,6\\}^{2}\\to \\{2, 3, 4, 5, 6, 7, 8, 9, 10, 11, 12 \\}$$\n",
    "dada por\n",
    "$S(i,j)=i+j.$"
   ]
  },
  {
   "cell_type": "code",
   "execution_count": 2,
   "id": "322e25a4",
   "metadata": {},
   "outputs": [],
   "source": [
    "def P(A, Omega):\n",
    "    P = Fraction(len(A),len(Omega))\n",
    "    return P"
   ]
  },
  {
   "cell_type": "code",
   "execution_count": 3,
   "id": "f187b4e3",
   "metadata": {
    "scrolled": true
   },
   "outputs": [
    {
     "data": {
      "text/plain": [
       "{(1, 1),\n",
       " (1, 2),\n",
       " (1, 3),\n",
       " (1, 4),\n",
       " (1, 5),\n",
       " (1, 6),\n",
       " (2, 1),\n",
       " (2, 2),\n",
       " (2, 3),\n",
       " (2, 4),\n",
       " (2, 5),\n",
       " (2, 6),\n",
       " (3, 1),\n",
       " (3, 2),\n",
       " (3, 3),\n",
       " (3, 4),\n",
       " (3, 5),\n",
       " (3, 6),\n",
       " (4, 1),\n",
       " (4, 2),\n",
       " (4, 3),\n",
       " (4, 4),\n",
       " (4, 5),\n",
       " (4, 6),\n",
       " (5, 1),\n",
       " (5, 2),\n",
       " (5, 3),\n",
       " (5, 4),\n",
       " (5, 5),\n",
       " (5, 6),\n",
       " (6, 1),\n",
       " (6, 2),\n",
       " (6, 3),\n",
       " (6, 4),\n",
       " (6, 5),\n",
       " (6, 6)}"
      ]
     },
     "execution_count": 3,
     "metadata": {},
     "output_type": "execute_result"
    }
   ],
   "source": [
    "#Primero vamos a crear a nuestro espacio muestral Omega\n",
    "L = [i for i in range(1,7)] #Lista por comprensión\n",
    "#print(L)\n",
    "Omega = set(product(L, repeat=2))\n",
    "Omega"
   ]
  },
  {
   "cell_type": "code",
   "execution_count": 4,
   "id": "506bb23c",
   "metadata": {},
   "outputs": [],
   "source": [
    "# Se crea el set del experimento a realizar\n",
    "S_mayor_1 = defaultdict(set)"
   ]
  },
  {
   "cell_type": "code",
   "execution_count": 5,
   "id": "349e3650",
   "metadata": {},
   "outputs": [],
   "source": [
    "S_mayor_1 = {(i,j): i+j for i,j in Omega}"
   ]
  },
  {
   "cell_type": "code",
   "execution_count": 6,
   "id": "e90055df",
   "metadata": {
    "scrolled": true
   },
   "outputs": [
    {
     "data": {
      "text/plain": [
       "{(3, 4): 7,\n",
       " (4, 3): 7,\n",
       " (3, 1): 4,\n",
       " (5, 4): 9,\n",
       " (4, 6): 10,\n",
       " (5, 1): 6,\n",
       " (2, 2): 4,\n",
       " (1, 6): 7,\n",
       " (2, 5): 7,\n",
       " (1, 3): 4,\n",
       " (6, 2): 8,\n",
       " (6, 5): 11,\n",
       " (4, 2): 6,\n",
       " (4, 5): 9,\n",
       " (3, 3): 6,\n",
       " (5, 6): 11,\n",
       " (3, 6): 9,\n",
       " (5, 3): 8,\n",
       " (2, 4): 6,\n",
       " (1, 2): 3,\n",
       " (2, 1): 3,\n",
       " (1, 5): 6,\n",
       " (6, 1): 7,\n",
       " (6, 4): 10,\n",
       " (3, 2): 5,\n",
       " (4, 1): 5,\n",
       " (3, 5): 8,\n",
       " (5, 2): 7,\n",
       " (4, 4): 8,\n",
       " (5, 5): 10,\n",
       " (1, 1): 2,\n",
       " (1, 4): 5,\n",
       " (2, 3): 5,\n",
       " (2, 6): 8,\n",
       " (6, 6): 12,\n",
       " (6, 3): 9}"
      ]
     },
     "execution_count": 6,
     "metadata": {},
     "output_type": "execute_result"
    }
   ],
   "source": [
    "# Elementos de Omega que cumplen con la condicion\n",
    "S_mayor_1"
   ]
  },
  {
   "cell_type": "code",
   "execution_count": 7,
   "id": "1c1e886f",
   "metadata": {},
   "outputs": [
    {
     "data": {
      "text/plain": [
       "defaultdict(set, {})"
      ]
     },
     "execution_count": 7,
     "metadata": {},
     "output_type": "execute_result"
    }
   ],
   "source": [
    "#Vamos a crear un diccionario por default de manera sintetica y arreglada\n",
    "dS_mayor_1 = defaultdict(set) #lista\n",
    "dS_mayor_1"
   ]
  },
  {
   "cell_type": "code",
   "execution_count": 8,
   "id": "eca13fe6",
   "metadata": {},
   "outputs": [
    {
     "data": {
      "text/plain": [
       "defaultdict(set,\n",
       "            {7: {(1, 6), (2, 5), (3, 4), (4, 3), (5, 2), (6, 1)},\n",
       "             4: {(1, 3), (2, 2), (3, 1)},\n",
       "             9: {(3, 6), (4, 5), (5, 4), (6, 3)},\n",
       "             10: {(4, 6), (5, 5), (6, 4)},\n",
       "             6: {(1, 5), (2, 4), (3, 3), (4, 2), (5, 1)},\n",
       "             8: {(2, 6), (3, 5), (4, 4), (5, 3), (6, 2)},\n",
       "             11: {(5, 6), (6, 5)},\n",
       "             3: {(1, 2), (2, 1)},\n",
       "             5: {(1, 4), (2, 3), (3, 2), (4, 1)},\n",
       "             2: {(1, 1)},\n",
       "             12: {(6, 6)}})"
      ]
     },
     "execution_count": 8,
     "metadata": {},
     "output_type": "execute_result"
    }
   ],
   "source": [
    "for i,j in S_mayor_1.items():\n",
    "    dS_mayor_1[j].add(i) #añadiendo al diccionario las llaves\n",
    "dS_mayor_1"
   ]
  },
  {
   "cell_type": "code",
   "execution_count": 9,
   "id": "bb384340",
   "metadata": {},
   "outputs": [],
   "source": [
    "leyS_mayor_1 = defaultdict(set)"
   ]
  },
  {
   "cell_type": "code",
   "execution_count": 10,
   "id": "80aaf3a2",
   "metadata": {},
   "outputs": [],
   "source": [
    "leyS_mayor_1 = {k : P(A,S_mayor_1) for k,A in dS_mayor_1.items() }"
   ]
  },
  {
   "cell_type": "code",
   "execution_count": 11,
   "id": "815afc6f",
   "metadata": {},
   "outputs": [
    {
     "name": "stdout",
     "output_type": "stream",
     "text": [
      "1/6 , si k = 7\n",
      "1/12 , si k = 4\n",
      "1/9 , si k = 9\n",
      "1/12 , si k = 10\n",
      "5/36 , si k = 6\n",
      "5/36 , si k = 8\n",
      "1/18 , si k = 11\n",
      "1/18 , si k = 3\n",
      "1/9 , si k = 5\n",
      "1/36 , si k = 2\n",
      "1/36 , si k = 12\n"
     ]
    }
   ],
   "source": [
    "# Se imprimen la probabilidad del experimeneto\n",
    "for i in leyS_mayor_1:\n",
    "    print(leyS_mayor_1[i],', si k =',i)"
   ]
  },
  {
   "cell_type": "code",
   "execution_count": 12,
   "id": "3dbe7734",
   "metadata": {},
   "outputs": [
    {
     "name": "stdout",
     "output_type": "stream",
     "text": [
      "1.0\n"
     ]
    }
   ],
   "source": [
    "# Se verifica que la suma es 1\n",
    "y_ley_lista = []\n",
    "x_ley_lista = []\n",
    "suma = 0\n",
    "for i in leyS_mayor_1:\n",
    "    suma = suma + float(leyS_mayor_1[i])\n",
    "    y_ley_lista.append(float(leyS_mayor_1[i]))\n",
    "    x_ley_lista.append(i)\n",
    "print(suma)"
   ]
  },
  {
   "cell_type": "code",
   "execution_count": 13,
   "id": "502c0f07",
   "metadata": {},
   "outputs": [
    {
     "data": {
      "text/plain": [
       "[0.16666666666666666,\n",
       " 0.08333333333333333,\n",
       " 0.1111111111111111,\n",
       " 0.08333333333333333,\n",
       " 0.1388888888888889,\n",
       " 0.1388888888888889,\n",
       " 0.05555555555555555,\n",
       " 0.05555555555555555,\n",
       " 0.1111111111111111,\n",
       " 0.027777777777777776,\n",
       " 0.027777777777777776]"
      ]
     },
     "execution_count": 13,
     "metadata": {},
     "output_type": "execute_result"
    }
   ],
   "source": [
    "y_ley_lista"
   ]
  },
  {
   "cell_type": "code",
   "execution_count": 14,
   "id": "0a5ddf88",
   "metadata": {},
   "outputs": [
    {
     "data": {
      "text/plain": [
       "[7, 4, 9, 10, 6, 8, 11, 3, 5, 2, 12]"
      ]
     },
     "execution_count": 14,
     "metadata": {},
     "output_type": "execute_result"
    }
   ],
   "source": [
    "x_ley_lista"
   ]
  },
  {
   "cell_type": "code",
   "execution_count": 15,
   "id": "083cacfa",
   "metadata": {},
   "outputs": [
    {
     "data": {
      "image/png": "[encoded data removed]",
      "text/plain": [
       "<Figure size 640x480 with 1 Axes>"
      ]
     },
     "metadata": {},
     "output_type": "display_data"
    }
   ],
   "source": [
    "# Grafiar distribución\n",
    "y = y_ley_lista\n",
    "x = x_ley_lista\n",
    "plt.plot(x,y,\"bo\")\n",
    "plt.vlines(x,0,y,\"g\")\n",
    "plt.title(\"Distribución Suma de las caras dos dados\")\n",
    "plt.ylabel(\"Probabilidad\")\n",
    "plt.xlabel(\"Suma de las caras\")\n",
    "plt.xticks(range(2, 6, 1))\n",
    "plt.show()"
   ]
  },
  {
   "cell_type": "code",
   "execution_count": 16,
   "id": "85df4313",
   "metadata": {},
   "outputs": [
    {
     "data": {
      "text/html": [
       "<div>\n",
       "<style scoped>\n",
       "    .dataframe tbody tr th:only-of-type {\n",
       "        vertical-align: middle;\n",
       "    }\n",
       "\n",
       "    .dataframe tbody tr th {\n",
       "        vertical-align: top;\n",
       "    }\n",
       "\n",
       "    .dataframe thead th {\n",
       "        text-align: right;\n",
       "    }\n",
       "</style>\n",
       "<table border=\"1\" class=\"dataframe\">\n",
       "  <thead>\n",
       "    <tr style=\"text-align: right;\">\n",
       "      <th></th>\n",
       "      <th>Suma</th>\n",
       "      <th>Probabilidad</th>\n",
       "    </tr>\n",
       "  </thead>\n",
       "  <tbody>\n",
       "    <tr>\n",
       "      <th>9</th>\n",
       "      <td>2</td>\n",
       "      <td>0.027778</td>\n",
       "    </tr>\n",
       "    <tr>\n",
       "      <th>7</th>\n",
       "      <td>3</td>\n",
       "      <td>0.055556</td>\n",
       "    </tr>\n",
       "    <tr>\n",
       "      <th>1</th>\n",
       "      <td>4</td>\n",
       "      <td>0.083333</td>\n",
       "    </tr>\n",
       "    <tr>\n",
       "      <th>8</th>\n",
       "      <td>5</td>\n",
       "      <td>0.111111</td>\n",
       "    </tr>\n",
       "    <tr>\n",
       "      <th>4</th>\n",
       "      <td>6</td>\n",
       "      <td>0.138889</td>\n",
       "    </tr>\n",
       "    <tr>\n",
       "      <th>0</th>\n",
       "      <td>7</td>\n",
       "      <td>0.166667</td>\n",
       "    </tr>\n",
       "    <tr>\n",
       "      <th>5</th>\n",
       "      <td>8</td>\n",
       "      <td>0.138889</td>\n",
       "    </tr>\n",
       "    <tr>\n",
       "      <th>2</th>\n",
       "      <td>9</td>\n",
       "      <td>0.111111</td>\n",
       "    </tr>\n",
       "    <tr>\n",
       "      <th>3</th>\n",
       "      <td>10</td>\n",
       "      <td>0.083333</td>\n",
       "    </tr>\n",
       "    <tr>\n",
       "      <th>6</th>\n",
       "      <td>11</td>\n",
       "      <td>0.055556</td>\n",
       "    </tr>\n",
       "    <tr>\n",
       "      <th>10</th>\n",
       "      <td>12</td>\n",
       "      <td>0.027778</td>\n",
       "    </tr>\n",
       "  </tbody>\n",
       "</table>\n",
       "</div>"
      ],
      "text/plain": [
       "    Suma  Probabilidad\n",
       "9      2      0.027778\n",
       "7      3      0.055556\n",
       "1      4      0.083333\n",
       "8      5      0.111111\n",
       "4      6      0.138889\n",
       "0      7      0.166667\n",
       "5      8      0.138889\n",
       "2      9      0.111111\n",
       "3     10      0.083333\n",
       "6     11      0.055556\n",
       "10    12      0.027778"
      ]
     },
     "execution_count": 16,
     "metadata": {},
     "output_type": "execute_result"
    }
   ],
   "source": [
    "df = pd.DataFrame(y_ley_lista,x_ley_lista)\n",
    "df = df.reset_index()\n",
    "df = df.set_axis(['Suma', 'Probabilidad'], axis=1)\n",
    "df.sort_values('Suma', inplace=True)\n",
    "df"
   ]
  },
  {
   "cell_type": "code",
   "execution_count": 17,
   "id": "d1549a06",
   "metadata": {},
   "outputs": [],
   "source": [
    "# Calculamos la CDF\n",
    "cdf = np.cumsum(df.Probabilidad)"
   ]
  },
  {
   "cell_type": "code",
   "execution_count": 18,
   "id": "2868e590",
   "metadata": {},
   "outputs": [
    {
     "data": {
      "image/png": "[encoded data removed]",
      "text/plain": [
       "<Figure size 640x480 with 1 Axes>"
      ]
     },
     "metadata": {},
     "output_type": "display_data"
    }
   ],
   "source": [
    "# Plot the CDF\n",
    "plt.step(df.Suma, cdf, where='post')\n",
    "plt.xlabel('Suma de las caras')\n",
    "plt.ylabel('Cumulative Distribution Function')\n",
    "plt.title('Cumulative Distribution Function (CDF) de la Suma de las caras')\n",
    "plt.grid(True)\n",
    "plt.show()"
   ]
  },
  {
   "cell_type": "markdown",
   "id": "99b960b9",
   "metadata": {},
   "source": [
    "---"
   ]
  },
  {
   "cell_type": "code",
   "execution_count": 19,
   "id": "u2IRzV0uX4Ra",
   "metadata": {
    "colab": {
     "base_uri": "https://localhost:8080/"
    },
    "id": "u2IRzV0uX4Ra",
    "outputId": "447f9753-3392-4be1-9121-0baa8ab4f8d5"
   },
   "outputs": [
    {
     "name": "stdout",
     "output_type": "stream",
     "text": [
      "Muestras generadas: [8 5 9 6 8 7 8 3 7 4]\n"
     ]
    }
   ],
   "source": [
    "# Definir el rango de la distribución uniforme discreta [low, high)\n",
    "low = 1  # límite inferior (incluido en el rango)\n",
    "high = 10  # límite superior (excluido del rango)\n",
    "#rango [1,10)\n",
    "\n",
    "# Generar 10 muestras de una uniforme discreta\n",
    "samples = randint.rvs(low, high, size=10)\n",
    "\n",
    "print(\"Muestras generadas:\", samples)"
   ]
  },
  {
   "cell_type": "code",
   "execution_count": 20,
   "id": "OLea8rc1YN10",
   "metadata": {
    "colab": {
     "base_uri": "https://localhost:8080/",
     "height": 472
    },
    "id": "OLea8rc1YN10",
    "outputId": "9af84cfd-f3b2-4967-880a-230305b7019e"
   },
   "outputs": [
    {
     "data": {
      "image/png": "[encoded data removed]",
      "text/plain": [
       "<Figure size 640x480 with 1 Axes>"
      ]
     },
     "metadata": {},
     "output_type": "display_data"
    }
   ],
   "source": [
    "# Definir el rango de la distribución uniforme discreta [low, high)\n",
    "low = 1  # límite inferior (incluido)\n",
    "high = 10  # límite superior (excluido)\n",
    "\n",
    "# Crear los valores posibles dentro del rango\n",
    "x = np.arange(low, high)\n",
    "\n",
    "# Obtener la función de masa de probabilidad (FMP)\n",
    "pmf = randint.pmf(x, low, high)\n",
    "\n",
    "# Graficar la FMP\n",
    "plt.stem(x, pmf, basefmt=\" \", use_line_collection=True)\n",
    "plt.xlabel('Valores')\n",
    "plt.ylabel('Probabilidad')\n",
    "plt.title('Función de Masa de Probabilidad de una Uniforme Discreta')\n",
    "plt.grid(True)\n",
    "plt.show()"
   ]
  },
  {
   "cell_type": "markdown",
   "id": "1a2446e2",
   "metadata": {
    "id": "1a2446e2"
   },
   "source": [
    "## Variable aleatoria Bernoulli con parámetro $p\\in (0,1)$.\n",
    "\n",
    "El modelo probabilístico Bernoulli se aplica a un experimento cuyo espacio muestral está constituido sólo por dos resultados posibles, éxito y fracaso:\n",
    "\n",
    "Se considerará una v.a $X$ sobre el espacio muestral $$\\Omega=\\{\\text{éxito, fracaso}\\}$$\n",
    "de tal forma que\n",
    "* $X(\\{\\text{éxito}\\}) = 1$\n",
    "* $X(\\{\\text{fracaso}\\}) = 0$\n",
    "\n",
    "Las probabilidades asociadas a este modelo son:\n",
    "\n",
    "* $\\mathbb{P}(\\{\\text{éxito}\\}) = p$\n",
    "* $\\mathbb{P}(\\{\\text{fracaso}\\}) = 1-p$\n",
    "\n",
    "donde $0<p<1$.\n",
    "\n",
    "\n",
    "Entonces la función de densidad de masa de probabilidades de $X$ está dada por:\n",
    "\n",
    "$$f_{X}(k)=\\begin{cases}\n",
    "p &\\quad \\text{si } k=1 \\\\\n",
    "1-p &\\quad \\text{si } k=0\n",
    "\\end{cases}$$\n",
    "\n",
    "**Notación:** $X\\sim \\text{Ber}(p)$.\n",
    "\n",
    "Esta variable aleatoria es muy importante. En la practica es usada para modelar situaciones en las cuales hay dos posibles resultados como:\n",
    "* el estado de un teléfono en un momento dado: libre u ocupado.\n",
    "* una persona pueda estar enferma o sana de una determinada enfermedad.\n",
    "* la preferencia de una persona, la cual puede estar a favor o en contra de un candidato determinado.\n",
    "\n",
    "Mediante la combinación de variables aleatorias Bernoulli es posible construir otras variables aleatorias.\n",
    "\n",
    "### Esperanza y Varianza\n",
    "\n",
    "Si $X\\sim \\text{Ber}(p)$, entonces su esperanza es:\n",
    "\\begin{align*}\n",
    "\\mathbb{E}[X] = \\sum_{k=0}^{1}kf_{X}(k) = 1\\cdot p + 0\\cdot (1-p) = p.\n",
    "\\end{align*}\n",
    "\n",
    "Y su varianza se calcula usando,\n",
    "$$\\mathbb{E}[X^{2}] = \\sum_{k=0}^{1}k^{2}f_{X}(k) = 1^{2}\\cdot p + 0^{2}\\cdot (1-p) = p.$$\n",
    "Por lo tanto,\n",
    "$$\\text{Var}(X)=\\mathbb{E}[X^{2}]-(\\mathbb{E}[X])^{2} = p-p^{2} = p(1-p)$$\n",
    "\n"
   ]
  },
  {
   "cell_type": "code",
   "execution_count": 21,
   "id": "Xmf7FOOKhirj",
   "metadata": {
    "colab": {
     "base_uri": "https://localhost:8080/",
     "height": 527
    },
    "id": "Xmf7FOOKhirj",
    "outputId": "aef1ad11-9aa9-4823-9217-0c0c63f98a89"
   },
   "outputs": [
    {
     "name": "stdout",
     "output_type": "stream",
     "text": [
      "Función de densidad = [0.7 0.3]\n"
     ]
    },
    {
     "data": {
      "image/png": "[encoded data removed]",
      "text/plain": [
       "<Figure size 640x480 with 1 Axes>"
      ]
     },
     "metadata": {},
     "output_type": "display_data"
    },
    {
     "name": "stdout",
     "output_type": "stream",
     "text": [
      "Esperanza = 0.3\n",
      "Varianza = 0.21\n"
     ]
    }
   ],
   "source": [
    "from scipy.stats import bernoulli\n",
    "\n",
    "#Definimos la probabilidad de éxito\n",
    "p=0.3\n",
    "\n",
    "#Calculo de la función de densidad\n",
    "x=[0,1]\n",
    "print(\"Función de densidad =\",bernoulli.pmf(x,p))\n",
    "\n",
    "#Grafica de la funciónde de densidad\n",
    "plt.bar(x,bernoulli.pmf(x,p),width=0.05)\n",
    "plt.xlabel(\"Valores\")\n",
    "plt.ylabel(\"Probabilidad\")\n",
    "plt.title(\"Distribución bernoulli con p=0.3\")\n",
    "plt.show()\n",
    "\n",
    "#Calculo de la esperanza\n",
    "print(\"Esperanza =\",bernoulli.mean(p))\n",
    "\n",
    "#Calculo de la varianza\n",
    "print(\"Varianza =\",bernoulli.var(p))"
   ]
  },
  {
   "cell_type": "markdown",
   "id": "5effadd4",
   "metadata": {
    "id": "5effadd4"
   },
   "source": [
    "## Variable aleatoria Binomial con parámetros $n$ y $p\\in (0,1)$.\n",
    "\n",
    "Decimos que una v.a $X$ tiene distribución binomial con párametros $n$ y $p$, si su función de densidad de masa de probabilidades está dada por:\n",
    "$$\\begin{equation*}\n",
    "\tf_{X}(k)=\\begin{cases}\n",
    "\t\\binom{n}{k}p^{k}(1-p)^{n-k} &\\quad \\text{si } k=0,1,\\dots,n \\\\\n",
    "\t\\qquad 0 &\\quad \\text{en otro caso}  \n",
    "\t\\end{cases}\n",
    "\\end{equation*}$$\n",
    "donde $n$ es un entero positivo y $0< p< 1$.\n",
    "\n",
    "La esperanza de $X$ es:\n",
    "\\begin{align*}\n",
    "\\mathbb{E}[X]&= \\sum_{k \\mathop = 0}^n k \\binom n k p^k (1-p)^{n - k}\\\\\n",
    "&=\\sum_{k \\mathop = 1}^n k \\binom n k p^k (1-p)^{n - k}\\\\\n",
    "&= \\sum_{k \\mathop = 1}^n n \\binom {n - 1} {k - 1} p^k (1-p)^{n - k}\\\\\n",
    "&= n p \\sum_{k \\mathop = 1}^n \\binom {n - 1} {k - 1} p^{k - 1} (1-p)^{( {n - 1}) - ( {k - 1}) }\\\\\n",
    "&=n p \\sum_{j \\mathop = 0}^m \\binom m j p^j (1-p)^{m - j}\\\\\n",
    "&=np\n",
    "\\end{align*}\n",
    "\n",
    "Ahora,\n",
    "\\begin{align*}\n",
    "\\mathbb{E}[X^2]&= \\sum_{k \\mathop = 0}^n k^2 \\binom n k p^k (1-p)^{n - k}\\\\\n",
    "&=\\sum_{k \\mathop = 0}^n k n \\binom {n - 1} {k - 1} p^k (1-p)^{n - k}\\\\\n",
    "&= n p \\sum_{k \\mathop = 1}^n k \\binom {n - 1} {k - 1} p^{k - 1} (1-p)^{({n - 1}) - ({k - 1}) }\\\\\n",
    "&= n p \\sum_{j \\mathop = 0}^m ({j + 1}) \\binom m j p^j (1-p)^{m - j}\\\\\n",
    "&=n p \\left( {\\sum_{j \\mathop = 0}^m j \\binom m j p^j (1-p)^{m - j} + \\sum_{j \\mathop = 0}^m \\binom m j p^j (1-p)^{m - j} }\\right)\\\\\n",
    "&=n p \\left( {\\sum_{j \\mathop = 0}^m m \\binom {m - 1} {j - 1} p^j (1-p)^{m - j} + \\sum_{j \\mathop = 0}^m \\binom m j p^j (1-p)^{m - j} }\\right)\\\\\n",
    "&= n p \\left( (n - 1) p \\sum_{j \\mathop = 1}^m \\binom {m - 1}{j - 1} p^{j - 1} (1-p)^{( {m - 1}) - ({j - 1}) } + \\sum_{j \\mathop = 0}^m \\binom m j p^j (1-p)^{m - j}\\right) \\\\\n",
    "&= n p \\left( (n - 1) p (p + (1-p))^{m - 1} + (p + (1-p))^m\\right)\\\\\n",
    "&= n p ((n - 1) p + 1)\\\\\n",
    "&= (np)^2 +np(1-p),\n",
    "\\end{align*}\n",
    "\n",
    "por lo que la varianza de $X$ es:\n",
    "$$\\text{Var}(X)=np(1-p).$$\n",
    "\n",
    "\n",
    "**Ejemplo** Una moneda no justa se tira 6 veces, donde la probabilidad de obtener sol es de $0.3$.\n",
    "\n",
    "Sea $X$ el número de veces que cae sol\n",
    "\n",
    "entonces $X$ tiene una distribución binomial con parámetros $n=6$ y $p=0.3$. Por lo que\n",
    "$$\\begin{align*}\n",
    "\\mathbb{P}(X=2) &= \\binom{6}{2}(0.3)^{2}(0.7)^{4}=0.3241 \\\\\n",
    "\\mathbb{P}(X=3) &= \\binom{6}{3}(0.3)^{3}(0.7)^{3}=0.1852 \\\\\n",
    "\\mathbb{P}(1<X\\le 5) &= \\mathbb{P}(X=2)+\\mathbb{P}(X=3)+\\mathbb{P}(X=4)+\\mathbb{P}(X=5) \\\\\n",
    "\t\t\t&= 0.3241 + 0.1852 + \\binom{6}{4}(0.3)^{4}(0.7)^{2} + \\binom{6}{5}(0.3)^{5}(0.7)^{1} \\\\\n",
    "\t\t\t&= 0.5093 + 0.0595 + 0.0102 = 0.579\n",
    "\\end{align*}$$"
   ]
  },
  {
   "cell_type": "markdown",
   "id": "hzmozY9DZxIU",
   "metadata": {
    "id": "hzmozY9DZxIU"
   },
   "source": [
    "Note que la probabilidad $$\\mathbb{P}(1<X\\leq 5)=F_{X}(5)-F_{X}(1).$$"
   ]
  },
  {
   "cell_type": "markdown",
   "id": "cM4TH5Utmn7p",
   "metadata": {
    "id": "cM4TH5Utmn7p"
   },
   "source": [
    "Usando el tributo `.cdf `, podemos calcualr la probabilidad anterior:"
   ]
  },
  {
   "cell_type": "code",
   "execution_count": 22,
   "id": "sdJpblLOmmNn",
   "metadata": {
    "colab": {
     "base_uri": "https://localhost:8080/"
    },
    "id": "sdJpblLOmmNn",
    "outputId": "4f5502e2-71d7-42db-bf49-b199ea49357c"
   },
   "outputs": [
    {
     "data": {
      "text/plain": [
       "0.5790960000000003"
      ]
     },
     "execution_count": 22,
     "metadata": {},
     "output_type": "execute_result"
    }
   ],
   "source": [
    "from scipy.stats import binom\n",
    "binom.cdf(5,6,0.3) #calcula la probabilidad acumulada de que haya 5 o menos exitos en 6 ensayos\n",
    "binom.cdf(1,6,0.3) #calcula la probabilidad acumulada de que haya 1 o menos exitos en 6 ensayos\n",
    "binom.cdf(5,6,0.3)-binom.cdf(1,6,0.3) #calcula la probabilidad acumulada"
   ]
  },
  {
   "cell_type": "markdown",
   "id": "FHBm8MEWoxNl",
   "metadata": {
    "id": "FHBm8MEWoxNl"
   },
   "source": [
    "Vamos a grafciar la función de densidad de una binomial"
   ]
  },
  {
   "cell_type": "code",
   "execution_count": 23,
   "id": "eB0730OooPV5",
   "metadata": {
    "colab": {
     "base_uri": "https://localhost:8080/",
     "height": 564
    },
    "id": "eB0730OooPV5",
    "outputId": "c7a08b8c-6d7d-4739-fec1-5044960c4b58"
   },
   "outputs": [
    {
     "data": {
      "image/png": "[encoded data removed]",
      "text/plain": [
       "<Figure size 1000x600 with 1 Axes>"
      ]
     },
     "metadata": {},
     "output_type": "display_data"
    }
   ],
   "source": [
    "#Datos iniciales\n",
    "n=25 #número de ensayos Bernoulli\n",
    "p=0.3 #probabilidad de éxito\n",
    "s=100000 #número de muestras\n",
    "\n",
    "binom_numeros = sps.binom.rvs(n,p,size=s) #genera v.a. binomiales\n",
    "# binom.rvs(n,p,size=s) genera numeros aleatorios que siguen una distribucion binomial\n",
    "\n",
    "#Creo un histograma\n",
    "plt.figure(figsize=(10,6)) #tamaño de la figura\n",
    "plt.hist(\n",
    "    binom_numeros,\n",
    "    density=True,\n",
    "    bins=len(np.unique(binom_numeros)), #establece el numero de barras del histograma\n",
    "    color=\"blue\", #color de las barras\n",
    "    edgecolor=\"grey\", #color de los bordes\n",
    ")\n",
    "plt.xlabel(\"Valores\")\n",
    "plt.ylabel(\"Probabilidad\")\n",
    "plt.title(\"Distribución binomial\")\n",
    "plt.xticks(np.arange(min(binom_numeros),max(binom_numeros)+1,1))\n",
    "\n",
    "plt.show()\n"
   ]
  },
  {
   "cell_type": "markdown",
   "id": "73pLB0Hmg5e4",
   "metadata": {
    "id": "73pLB0Hmg5e4"
   },
   "source": [
    "# Variable aleatoria Poisson\n",
    "\n",
    "Es una distribución de probabilidad discreta que  sirve para calcular la probabilidad de que ocurra un determinado número de eventos raros durante un intervalo dado (puede ser de tiempo, longitud, área, etc.\n",
    "\n",
    "Esta variable aleatoria toma los valores sobre el conjunto $\\{0,1,2,\\dots\\}$ y tiene un parámetro $\\lambda>0$, el cual representa el número de veces que se espera que ocurra un evento durante un intervalo dado.\n",
    "\n",
    "La función de masa de probabilidades de una variable aleatoria Poisson, $X$, está dada por:\n",
    "$$f_{X}(k)=\\begin{cases}\n",
    "\te^{-\\lambda}\\frac{\\lambda^{k}}{k!} &\\quad \\text{si } k=0,1,2,\\dots \\\\\n",
    "\t0 &\\quad \\text{en otro caso}  \n",
    "\\end{cases}$$\n",
    "\n",
    "En efecto, es una función de masa de probabilidades debido a que\n",
    "$$\\begin{align*}\n",
    "\\sum_{k=0}^{\\infty}e^{-\\lambda}\\frac{\\lambda^{k}}{k!} &= e^{-\\lambda}\\sum_{k=0}^{\\infty}\\frac{\\lambda^{k}}{k!} \\\\ &= e^{-\\lambda}\\underbrace{\\left(1+\\lambda+\\frac{\\lambda^{2}}{2!}+\\frac{\\lambda^{3}}{3!}+\\cdots\\right)}_{\\text{desarrollo de Taylor de }e^{\\lambda}} \\\\ &= e^{-\\lambda}e^{\\lambda}=1.\n",
    "\\end{align*}$$"
   ]
  },
  {
   "cell_type": "markdown",
   "id": "mFOE9jBRjdde",
   "metadata": {
    "id": "mFOE9jBRjdde"
   },
   "source": [
    "**Aplicaciones**\n",
    "\n",
    "**Ejemplo:** Supongamos que el número de accidentes que ocurre en un punto tiene una distribución Poisson con parámetro $\\lambda=2$.\n",
    "* ¿Cuál es la probabilidad de que en un día ocurran más de dos accidentes?\n",
    "  $$\\begin{align*}\n",
    "\t\\mathbb{P}(X>2) &= 1-\\mathbb{P}(X\\le 2) \\\\ &=1-\\left[\\mathbb{P}(X=0)+\\mathbb{P}(X=1)+\\mathbb{P}(X=2)\\right] \\\\ &= 1-\\left[\\frac{e^{-2}2^{0}}{0!}+\\frac{e^{-2}2^{1}}{1!}+\\frac{e^{-2}2^{2}}{2!}\\right] \\\\ &= 1-e^{-2}\\left[1+2+2\\right] = 1-5e^{-2} = 0.3233\n",
    "  \\end{align*}$$\n",
    "\n",
    "* ¿Cuál es la probabilidad de que en un día ocurran más de dos accidentes, sabiendo que ocurre por lo menos uno?\n",
    "$$\\begin{align*}\n",
    "\\mathbb{P}(X>2 \\mid X\\ge 1) = \\frac{\\mathbb{P}(X>2 \\cap X\\ge 1)}{\\mathbb{P}(X\\ge 1)} = \\frac{\\mathbb{P}(X>2)}{\\mathbb{P}(X\\ge 1)} = \\frac{1-\\mathbb{P}(X\\leq 2)}{1-\\mathbb{P}(X<1)} = \\frac{1-5e^{-2}}{1-e^{-2}} = \\frac{0.3233}{0.8646} = 0.3739\n",
    "\\end{align*}$$\n",
    "ya que $\\mathbb{P}(X\\ge 1)=1-\\mathbb{P}(X<1)=1-\\mathbb{P}(X=0)=1-e^{-2}$"
   ]
  },
  {
   "cell_type": "markdown",
   "id": "f9674027",
   "metadata": {},
   "source": [
    "---"
   ]
  },
  {
   "cell_type": "markdown",
   "id": "c70a4145",
   "metadata": {},
   "source": [
    "$\\color{red}{\\text{Ejercicio 3.}}$ Usando el atributo `.cdf` [Poisson](https://docs.scipy.org/doc/scipy/reference/generated/scipy.stats.poisson.html) calcula las probabilidades anteriores."
   ]
  },
  {
   "cell_type": "code",
   "execution_count": 24,
   "id": "7c6c6771",
   "metadata": {},
   "outputs": [],
   "source": [
    "from scipy.stats import poisson\n",
    "lamb = 2"
   ]
  },
  {
   "cell_type": "code",
   "execution_count": 25,
   "id": "58b60927",
   "metadata": {},
   "outputs": [
    {
     "name": "stdout",
     "output_type": "stream",
     "text": [
      "0.3233235838169366\n"
     ]
    }
   ],
   "source": [
    "# ¿Cuál es la probabilidad de que en un día ocurran más de dos accidentes?\n",
    "print(1 - poisson.cdf(2,lamb))"
   ]
  },
  {
   "cell_type": "code",
   "execution_count": 26,
   "id": "87cb28a4",
   "metadata": {},
   "outputs": [
    {
     "name": "stdout",
     "output_type": "stream",
     "text": [
      "0.37392942900133747\n"
     ]
    }
   ],
   "source": [
    "# ¿Cuál es la probabilidad de que en un día ocurran más de dos accidentes, sabiendo que ocurre por lo menos uno?\n",
    "print((1 - poisson.cdf(2,lamb))/(1 - poisson.cdf(0,lamb)))"
   ]
  },
  {
   "cell_type": "markdown",
   "id": "c6c0ff91",
   "metadata": {},
   "source": [
    "---"
   ]
  },
  {
   "cell_type": "markdown",
   "id": "e0kiemN6jl4e",
   "metadata": {
    "id": "e0kiemN6jl4e"
   },
   "source": [
    "## Aproximación de Poisson a la Binomial\n",
    "La distribución de Poisson es una forma límite de la distribución binomial, es decir, es una buena aproximación cuando $n$ es suficientemente grande y $p$ suficientemente pequeña.\n",
    "\n",
    "$\\textbf{Teorema (Poisson).-}$ Sean $S_{n}\\sim Bin(n,p_{n})$ bajo el regimen $$\\lim_{n\\to \\infty}np_{n}=\\lambda>0.$$\n",
    "Consideremos la siguiente sucesión de números reales:\n",
    "$$a_{j}(n,p_n)=\\begin{cases}\\binom{n}{j}(p_n)^{j}(1-p_{n})^{n-j} & j\\leq n\\\\\n",
    "0 & j\\geq n+1\\end{cases}$$\n",
    "\n",
    " Entonces,\n",
    " $$\\lim_{n\\to \\infty}a_{j}(n,p_n)=a_{j}=e^{-\\lambda}\\frac{\\lambda^{j}}{j!} \\ \\ \\forall j\\in \\mathbb{N}.$$\n",
    "\n",
    " El teorema anterior implica que la distribución de Poisson ofrece un modelo probabilístico adecuado para todos aquellos experimentos aleatorios \ten los que las repeticiones son independientes unas de otras y en los \tque sólo hay dos posibles resultados: éxito o fracaso, con probabilidad de \téxito pequeña, y en los que el interés se centra en conocer el número de éxitos obtenidos al realizar el experimento un número suficientemente grande de veces.\n",
    "\n",
    "Empíricamente se ha establecido, que la aproximación se puede aplicar con seguridad si $n\\ge100$, $p\\le 0.01$ y $np \\le20$.\n",
    "\n",
    "**Ejemplo** Supongamos que la probabilidad de que un producto producido por cierta máquina es defectuoso es de $0.1$. ¿Cuál es la probabilidad de que un lote de 10 productos contenga a lo más un producto defectuoso?\n",
    "\n",
    "Sea $X$ el número de productos defectuosos, y sabemos que $X$ tiene una distribución binomial con parámetros $n=10$ y $p=0.1$, entonces\n",
    "\\begin{align*}\n",
    "\\mathbb{P}(X\\le 1) &= \\mathbb{P}(X=0)+\\mathbb{P}(X=1) \\\\ &= \\binom{10}{0}(0.1)^{0}(0.9)^{10-0}+\\binom{10}{1}(0.1)^{1}(0.9)^{10-1} \\\\ &= 0.7361\n",
    "\t\\end{align*}\n",
    "\n",
    "Ahora, con la distribución Poisson, tenemos que $\\lambda=10(0.1)=1$, por lo que\n",
    "$$\\mathbb{P}(X\\le 1) = \\mathbb{P}(X=0)+\\mathbb{P}(X=1) = \\frac{e^{-1}1^{0}}{0!}+\\frac{e^{-1}1^{1}}{1!} = e^{-1}+e^{-1} =0.7358$$"
   ]
  },
  {
   "cell_type": "code",
   "execution_count": 27,
   "id": "TldMYmb2jVZ9",
   "metadata": {
    "colab": {
     "base_uri": "https://localhost:8080/",
     "height": 430
    },
    "id": "TldMYmb2jVZ9",
    "outputId": "59ced106-f48f-4d4f-affb-4ee34869f587"
   },
   "outputs": [
    {
     "data": {
      "image/png": "[encoded data removed]",
      "text/plain": [
       "<Figure size 640x480 with 1 Axes>"
      ]
     },
     "metadata": {},
     "output_type": "display_data"
    }
   ],
   "source": [
    "# Simulación de la aproximación de la Bonomial a la Poisson\n",
    "param=3 # Parametro de la Poisson que queremos aproximar\n",
    "n=1000 # Este es el número de ensayos en la distribución binomial\n",
    "N=5000 # Este es el número de simulaciones que realizaremos.\n",
    "\n",
    "# Genera una muestra de N valores aleatorios de una distribución binomial con parámetros:\n",
    "# n = 1000 (número de ensayos), p = param/n = 3/1000\n",
    "X=npr.binomial(n,param/n,N)\n",
    "\n",
    "# Calcular la frecuencia relativa de los valores simulados\n",
    "counts = np.bincount(X) / float(N)\n",
    "\n",
    "# Crear un array de valores posibles\n",
    "x = np.arange(len(counts))\n",
    "\n",
    "# Calcular la función de masa de probabilidad (FMP) de la distribución Poisson teórica\n",
    "f_x = sps.poisson.pmf(x, param)\n",
    "\n",
    "plt.close()\n",
    "plt.bar(x - 0.5, counts, width=1., label=\"ley empírica\")\n",
    "p2 = plt.stem(x, f_x, \"r\", label=\"ley teórica\")\n",
    "plt.legend()\n",
    "plt.show()"
   ]
  },
  {
   "cell_type": "markdown",
   "id": "4mz4tCaWg84X",
   "metadata": {
    "id": "4mz4tCaWg84X"
   },
   "source": [
    "## Variable aleatoria Geométrica con parámetro $p\\in (0,1)$.\n",
    "\n",
    "Esta variable aleatoria cuenta el número de fracasos antes del primer éxito en ensayos bernoulli independientes con parámetro $0<p<1$, y su función de masa de probabilidades está dada por:\n",
    "$$f_{X}(k)=\\begin{cases}\n",
    "\tp(1-p)^{k-1} &\\quad \\text{si } k=1,2,\\dots \\\\\n",
    "\t\\qquad 0 &\\quad \\text{en otro caso}  \n",
    "\\end{cases}$$\n",
    "\n",
    "\n",
    "Notación. $X\\sim Geo(p)$\n",
    "\n",
    "La cual es una función de densidad ya que:\n",
    "* $0\\le f_{X}(k)\\le 1$ para toda $x$.\n",
    "* $$\\begin{align*}\n",
    "\t\\sum_{k\\in R_{X}}f_{X}(k) &= \\sum_{k=1}^{\\infty}(1-p)^{k-1}p \\\\\n",
    "\t\t\t&= p\\sum_{y=0}^{\\infty}(1-p)^{y} \\\\\n",
    "\t\t\t&= p\\left(\\frac{1}{1-(1-p)}\\right) = 1\n",
    "\t\t\\end{align*}$$\n",
    "\n",
    "Si por el contrario queremos contar el número de éxitos antes del primer fracaso, tenemos que la función de está dada por:\n",
    "\t$$f_{X}(k)=\\begin{cases}\n",
    "\t\tp^{k}(1-p) &\\quad \\text{si } k=0,1,2,\\dots \\\\\n",
    "\t\t\\qquad 0 &\\quad \\text{en otro caso}  \n",
    "\t\\end{cases}$$\n",
    "\n",
    "Para calcular la Esperanza y Varianza de $X$, necesitamos del siguiente lema:\n",
    "\n",
    "**Lema 1** Sea $x$ un número real tal que $│x│<1$. Entonces,\n",
    "$$\\sum_{k=1}^{\\infty}kx^{k-1}=\\frac{1}{(1-x)^2}.$$\n",
    "**Demostración.** Se tiene que\n",
    "$$\\frac{d}{dx}\\sum_{k=1}^{\\infty}x^{k}=\\sum_{k=1}^{\\infty}kx^{k-1}.$$\n",
    "Además,\n",
    "$$\\sum_{k=1}^{\\infty}x^{k}=\\frac{x}{1-x}.$$\n",
    "Por lo tanto,\n",
    "$$\\frac{d}{dx}\\frac{x}{1-x}=\\frac{1}{(1-x)^2}.$$\n",
    "\n",
    "Como corolario,\n",
    "$$\\sum_{k=1}^{\\infty}k(k+1)x^{k-1}=\\frac{2}{(1-x)^2}.$$\n",
    "En efecto,\n",
    "$$\\frac{d}{dx}\\sum_{k=1}^{\\infty}(k+1)x^{k}=\\sum_{k=1}^{\\infty}k(k+1)x^{k-1}.$$\n",
    "Ahora,\n",
    "$$\\sum_{k=1}^{\\infty}(k+1)x^{k}=\\sum_{m=2}^{\\infty}mx^{m-1}=\\frac{1}{(1-x)^2}-1.$$\n",
    "\n",
    "Usando estos resultados, la esperanza de $X$ es:\n",
    "\\begin{align*}\n",
    "\\mathbb{E}[X]&=  \\sum_{x \\mathop \\ge 1} k p(1-p)^{k - 1}\\\\\n",
    "&= p \\frac 1 {(1 - (1-p))^2}\\\\\n",
    "&=  \\frac p {p^2}\\\\\n",
    "&=\\frac{1}{p}\n",
    "\\end{align*}\n",
    "\n",
    "Calculamos,\n",
    "\\begin{align*}\n",
    "\\mathbb{E}[X^2]&= \\sum_{k=1}^{\\infty} x^{2}p(1-p)^{k-1}\\\\\n",
    "&=\\sum_{k=1}^{\\infty}k(k+1)(1-p)^{k-1}p-\\sum_{k=1}^{\\infty}p(1-p)^{k-1}\n",
    "\\end{align*}\n",
    "\n",
    "Por el Lema 1,\n",
    "$$\\mathbb{E}[X^2]=p\\frac{2}{p^3}-\\frac{1}{p}=\\frac{2}{p^2}-\\frac{1}{p}.$$\n",
    "\n",
    "Por lo tanto,\n",
    "$$\\text{Var}(X)=\\frac{2}{p^2}-\\frac{1}{p}-\\frac{1}{p^2}=\\frac{1-p}{p^2}.$$"
   ]
  },
  {
   "cell_type": "code",
   "execution_count": 28,
   "id": "2uktzinOoC45",
   "metadata": {
    "colab": {
     "base_uri": "https://localhost:8080/",
     "height": 508
    },
    "id": "2uktzinOoC45",
    "outputId": "6c1d4948-c5a4-4343-89a1-007668fccaf6"
   },
   "outputs": [
    {
     "data": {
      "image/png": "[encoded data removed]",
      "text/plain": [
       "<Figure size 1000x500 with 1 Axes>"
      ]
     },
     "metadata": {},
     "output_type": "display_data"
    }
   ],
   "source": [
    "# Simulación de una distribución geométrica.\n",
    "p = 0.4  # probabilidad de éxito\n",
    "s = 100000  # tamaño de muestra (se generarán 100,000 v.a. geométricas)\n",
    "\n",
    "random.seed(3)\n",
    "geom_numeros = sps.geom.rvs(p, size=s) # genera variables aleatorias geométricas\n",
    "\n",
    "#Creo un histograma\n",
    "plt.figure(figsize=(10, 5))\n",
    "plt.hist(\n",
    "    geom_numeros,\n",
    "    density=True,\n",
    "    bins=len(np.unique(geom_numeros)),\n",
    "    color=\"#26d526\",\n",
    "    edgecolor=\"grey\",\n",
    ")\n",
    "plt.xlabel(\" \")\n",
    "plt.ylabel(\"Probabilidad\")\n",
    "plt.title(\"Distribución Geométrica \\npara p=0.4\")\n",
    "plt.xticks(\n",
    "    np.arange(min(geom_numeros), max(geom_numeros) + 1, 1.0)\n",
    ")\n",
    "\n",
    "plt.show()"
   ]
  },
  {
   "cell_type": "markdown",
   "id": "MBHSx-yOiL82",
   "metadata": {
    "id": "MBHSx-yOiL82"
   },
   "source": [
    "**Ejemplo.** Cada una de $12$ personas lanza una moneda indefinidamente, deteniendo sus lanzamientos en el momento en que se obtiene por primera vez águila. ¿Cuál es la probabilidad de que por lo menos $10$ de ellas realicen menos de $4$ lanzamientos?\n",
    "\n",
    "Sea $X$ el número de lanzamientos que se realizan antes de obtener por primera vez águila al lanzar una moneda indefinidamente y sea $Y$ el número de personas que realizan menos de $4$ lanzamientos. Así, $Y\\sim \\text{Binom}\\left(12, p=\\mathbb{P}(X<3) \\right)$, en donde $X\\sim \\text{Geo}(1/2)$. Así,\n",
    "- $p=\\frac{7}{8}$.\n",
    "- $\\mathbb{P}(Y\\geq 10)=0.818$"
   ]
  },
  {
   "cell_type": "code",
   "execution_count": 29,
   "id": "L4w8ZEUqlTFe",
   "metadata": {
    "colab": {
     "base_uri": "https://localhost:8080/"
    },
    "id": "L4w8ZEUqlTFe",
    "outputId": "3c2e9fcc-5f0c-491a-9d9c-239b9611e5a5"
   },
   "outputs": [
    {
     "name": "stdout",
     "output_type": "stream",
     "text": [
      "0.875\n",
      "0.8180006196344038\n"
     ]
    }
   ],
   "source": [
    "# Calcula la función de distribución acumulada (CDF) de la distribución geométrica\n",
    "# para el valor k = 3 y la probabilidad de éxito p = 0.5.\n",
    "p = sps.geom.cdf(3, 0.5)\n",
    "print(p)\n",
    "#La probabilidad buscada es:\n",
    "P = 1-sps.binom.cdf(9, 12, p) # Cálculo de la probabilidad complementaria usando una distribución binomial\n",
    "print(P)"
   ]
  },
  {
   "cell_type": "markdown",
   "id": "I39XPyC-nW6W",
   "metadata": {
    "id": "I39XPyC-nW6W"
   },
   "source": [
    "## Variable aleatoria Binomial Negativa con parámetros $r\\geq 1$ y $p\\in (0,1)$.\n",
    "\n",
    "Supongamos que se realizan ensayos independientes, cada uno con probabilidad $0<p<1$ de ser un éxito, hasta obtener un total de $r$ éxitos acumulados. Sea $X$ el número de ensayos que se requieren, entonces su función de masa de probabilidades está dada por:\n",
    "$$f_{X}(k)=\\begin{cases}\n",
    "\t\\binom{n-1}{r-1}p^{r}(1-p)^{n-r} &\\quad \\text{si } n=r,r+1,\\dots \\\\\n",
    "\t\\qquad 0 &\\quad \\text{en otro caso}  \n",
    "\\end{cases}$$\n",
    "\n",
    "\n",
    "\n",
    "Notación. $X\\sim \\text{BN}(r,p)$.\n",
    "\n",
    "Se tiene que\n",
    "$$\\mathbb{E}[X]=\\frac{r}{p}$$\n",
    "y\n",
    "$$\\text{Var}[X]=\\frac{r(1-p)}{p^2}.$$"
   ]
  },
  {
   "cell_type": "code",
   "execution_count": 30,
   "id": "O8bsXjQ90HUS",
   "metadata": {
    "colab": {
     "base_uri": "https://localhost:8080/",
     "height": 508
    },
    "id": "O8bsXjQ90HUS",
    "outputId": "303df1c3-c49e-4497-beba-10de76de0a4d"
   },
   "outputs": [
    {
     "data": {
      "image/png": "[encoded data removed]",
      "text/plain": [
       "<Figure size 1000x500 with 1 Axes>"
      ]
     },
     "metadata": {},
     "output_type": "display_data"
    }
   ],
   "source": [
    "# Simulación de una distribución binomial negativa.\n",
    "n = 10  # numbero de ensayos Bernoulli\n",
    "p = 0.4  # probabilidad de éxito\n",
    "s = 100000  # tamaño de muestra\n",
    "\n",
    "random.seed(3)\n",
    "geom_numeros = sps.nbinom.rvs(n,p, size=s) # genera v.a. Binomial Negativas\n",
    "\n",
    "#Creo un histograma\n",
    "plt.figure(figsize=(10, 5))\n",
    "plt.hist(\n",
    "    geom_numeros,\n",
    "    density=True,\n",
    "    bins=len(np.unique(geom_numeros)),\n",
    "    color=\"#FF00FF\",\n",
    "    edgecolor=\"grey\",\n",
    ")\n",
    "plt.xlabel(\" \")\n",
    "plt.ylabel(\"Probabilidad\")\n",
    "plt.title(\"Distribución BN \\npara r=10 y p=0.4\")\n",
    "plt.xticks(\n",
    "    np.arange(min(geom_numeros), max(geom_numeros) + 1, 2.0)\n",
    ")\n",
    "\n",
    "plt.show()"
   ]
  },
  {
   "cell_type": "markdown",
   "id": "29c6f441",
   "metadata": {},
   "source": [
    "---"
   ]
  },
  {
   "cell_type": "markdown",
   "id": "oK1C4dqX0OwD",
   "metadata": {
    "id": "oK1C4dqX0OwD"
   },
   "source": [
    "$\\color{red}{\\text{Ejercicio 4.}}$ Un examen de Estadística consta de 20 preguntas tipo test y se conoce de experiencias\n",
    "anteriores que un alumno tiene probabilidad 0.7 de contestar bien cada pregunta. Obtener:\n",
    "\n",
    "a) La probabilidad de que la primera pregunta que contesta bien sea la cuarta."
   ]
  },
  {
   "cell_type": "markdown",
   "id": "2559e1e1",
   "metadata": {},
   "source": [
    "X= Número de fallos antes del primer éxito, $X ∼ G(0.7)$ \n",
    "\n",
    "$P[X =3] =(0.3)^{3}0.7 = 0.0189$"
   ]
  },
  {
   "cell_type": "code",
   "execution_count": 31,
   "id": "fe133a53",
   "metadata": {},
   "outputs": [
    {
     "name": "stdout",
     "output_type": "stream",
     "text": [
      "0.018900000000000007\n"
     ]
    }
   ],
   "source": [
    "from scipy.stats import geom\n",
    "p = 0.7\n",
    "k = 4\n",
    "probabilidad = geom.pmf(k, p)\n",
    "print(probabilidad)"
   ]
  },
  {
   "cell_type": "markdown",
   "id": "143d3b4c",
   "metadata": {},
   "source": [
    "b) Sabiendo que para aprobar el examen es necesario contestar bien a 10 preguntas, ¿cuál es la probabilidad de que apruebe al contestar la pregunta duodécima?"
   ]
  },
  {
   "cell_type": "markdown",
   "id": "9c7a91a6",
   "metadata": {},
   "source": [
    "Para resolver este problema, podemos modelar la situación usando la distribución binomial. Queremos calcular la probabilidad de que un alumno apruebe el examen (contestando bien al menos 10 preguntas) sabiendo que ya ha contestado la duodécima pregunta.\n",
    "\n",
    "1. **Definición de variables**:\n",
    "   - Probabilidad de contestar bien una pregunta: (p = 0.7)\n",
    "   - Probabilidad de contestar mal una pregunta: (q = 0.3)\n",
    "   - Total de preguntas: 20\n",
    "   - Preguntas ya contestadas (hasta la 12ª): 12\n",
    "   - Preguntas restantes: 8\n",
    "\n",
    "\n",
    "2. **Condición**:\n",
    "   - Queremos saber la probabilidad de que el alumno apruebe después de contestar la duodécima pregunta, lo que significa que debe tener al menos 10 respuestas correctas al final de las 20 preguntas.\n",
    "\n",
    "\n",
    "3. **Cálculo**:\n",
    "   - Denotamos (X) como el número de respuestas correctas en las primeras 12 preguntas. Queremos que el alumno tenga al menos (10 - X) respuestas correctas en las 8 preguntas restantes para aprobar.\n",
    "\n",
    "La probabilidad de que (X) tenga un valor específico sigue una distribución binomial $(\\text{Binomial}(n=12, p=0.7)$. Luego, sumamos las probabilidades de cada caso.\n",
    "\n"
   ]
  },
  {
   "cell_type": "code",
   "execution_count": 32,
   "id": "b000ea8f",
   "metadata": {},
   "outputs": [
    {
     "name": "stdout",
     "output_type": "stream",
     "text": [
      "La probabilidad de que apruebe al contestar la pregunta duodécima es: 0.7300\n"
     ]
    }
   ],
   "source": [
    "import scipy.stats as stats\n",
    "\n",
    "# Parámetros\n",
    "p_bien = 0.7\n",
    "n_total = 20\n",
    "n_contestadas = 12\n",
    "n_aprobadas_min = 10\n",
    "n_restantes = n_total - n_contestadas\n",
    "\n",
    "# Probabilidad total de aprobar\n",
    "probabilidad_total = 0\n",
    "\n",
    "# Evaluamos cuántas preguntas se han contestado bien en las primeras 12\n",
    "for x in range(n_aprobadas_min):  # X es el número de aciertos en las primeras 12\n",
    "    # Número de aciertos necesarios en las preguntas restantes\n",
    "    a_necesarios = n_aprobadas_min - x\n",
    "    \n",
    "    # Probabilidad de tener x aciertos en las primeras 12 preguntas\n",
    "    prob_x = stats.binom.pmf(x, n_contestadas, p_bien)\n",
    "    \n",
    "    # Probabilidad de tener al menos a_necesarios aciertos en las 8 preguntas restantes\n",
    "    prob_restantes = sum(stats.binom.pmf(k, n_restantes, p_bien) for k in range(a_necesarios, n_restantes + 1))\n",
    "    \n",
    "    # Acumulamos la probabilidad\n",
    "    probabilidad_total += prob_x * prob_restantes\n",
    "\n",
    "# Mostramos el resultado\n",
    "print(f\"La probabilidad de que apruebe al contestar la pregunta duodécima es: {probabilidad_total:.4f}\")"
   ]
  },
  {
   "cell_type": "markdown",
   "id": "19de5d80",
   "metadata": {},
   "source": [
    "---"
   ]
  },
  {
   "cell_type": "markdown",
   "id": "4d646263",
   "metadata": {},
   "source": [
    "$\\color{red}{\\text{Ejercicio 5.}}$ Investigue sobre el problema de la caja de cerillos de Banach y explique su solución."
   ]
  },
  {
   "cell_type": "markdown",
   "id": "d0e0c304",
   "metadata": {},
   "source": [
    "El problema de la caja de cerillos de Banach es un ejemplo clásico en la teoría de conjuntos, que ilustra conceptos en teoría de probabilidades y cardinalidad. Se presenta de la siguiente manera:\n",
    "\n",
    "### Enunciado del Problema\n",
    "\n",
    "Imagina que tienes una caja con cerillos numerados del 1 al \\( n \\) (donde \\( n \\) es un número natural). La pregunta es: ¿puedes retirar los cerillos de tal manera que, al final, todos los cerillos estén retirados de la caja, pero el número de cerillos retirados en cada paso nunca sea igual al número del cerillo retirado?\n",
    "\n",
    "Por ejemplo, si retiras el cerillo número 1, en ese paso no puedes retirar el cerillo 1; si retiras el cerillo número 2, no puedes retirar el cerillo 2, y así sucesivamente.\n",
    "\n",
    "### Solución\n",
    "\n",
    "La solución al problema se basa en el concepto de funciones bijectivas y la construcción de una secuencia de retiros que cumpla con la condición dada.\n",
    "\n",
    "1. **Construcción de la Secuencia**: Puedes construir la secuencia de retiros de manera que en cada paso se retire un cerillo que no coincida con el número de cerillo que corresponde a ese paso. Esto se puede hacer utilizando un argumento de inducción o mediante la construcción explícita de una secuencia.\n",
    "\n",
    "2. **Ejemplo para \\( n = 3 \\)**:\n",
    "   - Supón que tienes cerillos 1, 2 y 3.\n",
    "   - Puedes retirar los cerillos en el siguiente orden:\n",
    "     1. Retira el cerillo 2.\n",
    "     2. Retira el cerillo 3.\n",
    "     3. Retira el cerillo 1.\n",
    "   \n",
    "   En este caso, nunca has retirado el cerillo con el mismo número que el paso en que lo retiras.\n",
    "\n",
    "3. **Generalización**: Para cualquier \\( n \\), es posible encontrar una secuencia similar. Este método se puede formalizar utilizando técnicas combinatorias y teoría de grafos.\n",
    "\n",
    "### Interpretaciones\n",
    "\n",
    "El problema de Banach tiene conexiones profundas con la teoría de conjuntos y la teoría de la medida. Se relaciona con los conceptos de conjuntos numerables y no numerables y muestra cómo, a pesar de las restricciones, es posible realizar un proceso de manera ordenada.\n",
    "\n",
    "### Conclusión\n",
    "\n",
    "La solución al problema de la caja de cerillos de Banach demuestra que, bajo condiciones adecuadas, es posible realizar operaciones en conjuntos finitos sin que ciertos elementos coincidan con sus índices, lo que resulta ser un ejemplo interesante en matemáticas discretas y combinatorias."
   ]
  },
  {
   "cell_type": "markdown",
   "id": "5f3de477",
   "metadata": {},
   "source": [
    "---"
   ]
  },
  {
   "cell_type": "markdown",
   "id": "8veKIbyeoJNy",
   "metadata": {
    "id": "8veKIbyeoJNy"
   },
   "source": [
    "## Variable aleatoria Hipergeométrica con parámetros $n,N,m$.\n",
    "\n",
    "Supongamos que se elige, sin reemplazo, una muestra de tamaño $n$ de una urna que contiene $N$ bolas, de las cuales $m$ son rojas y $N-m$ son verdes. Sea $X$ el número de ebolas rojas seleccionadas, entonces su función de masa de probabilidades está dada por:\n",
    "$$f_{X}(k)=\n",
    "\t\\frac{\\binom{m}{i}\\binom{N-m}{n-i}}{\\binom{N}{n}} \\quad \\text{si } i=0,1,\\dots, n  \n",
    "$$\n",
    "\n",
    "\n",
    "\n",
    "Notación. $X\\sim \\text{Hiper}(n,N,m)$.\n",
    "\n",
    "Se tiene que\n",
    "$$\\mathbb{E}[X]=\\frac{nm}{N}$$\n",
    "y\n",
    "$$\\text{Var}[X]=\\frac{nm}{N}\\left[\\frac{(n-1)(m-1)}{N-1}+1-\\frac{nm}{N} \\right].$$\n",
    "\n",
    "**Nota.** Si $i\\leq n$ y $X\\sim \\text{Hiper}(n,N,m)$, cuando $p=\\frac{m}{N}$ y $m,N$ son muy grandes con respecto a $n$ e $i$:\n",
    "$$\\mathbb{P}(X=i)\\approx \\binom{n}{i}p^{i}(1-p)^{n-i}.$$"
   ]
  },
  {
   "cell_type": "code",
   "execution_count": 33,
   "id": "VuBGAdmp051e",
   "metadata": {
    "colab": {
     "base_uri": "https://localhost:8080/",
     "height": 508
    },
    "id": "VuBGAdmp051e",
    "outputId": "d6d57553-d90c-4f87-be50-372bc1777924"
   },
   "outputs": [
    {
     "data": {
      "image/png": "[encoded data removed]",
      "text/plain": [
       "<Figure size 1000x500 with 1 Axes>"
      ]
     },
     "metadata": {},
     "output_type": "display_data"
    }
   ],
   "source": [
    "# Simulación de una distribución hipergeometrica.\n",
    "n = 40  # tamaño total de la población\n",
    "m = 32  # número de éxitos en la población\n",
    "N = 7   # número de muestras (tamaño de la muestra)\n",
    "s = 100 # número de simulaciones (tamaño de la muestra generada)\n",
    "\n",
    "\n",
    "random.seed(3)\n",
    "# Generamos variables aleatorias hipergeométricas\n",
    "geom_numeros = sps.hypergeom.rvs(n, m, N, size=s)\n",
    "\n",
    "#Creo un histograma\n",
    "plt.figure(figsize=(10, 5))\n",
    "plt.hist(\n",
    "    geom_numeros,\n",
    "    density=True,\n",
    "    bins=len(np.unique(geom_numeros)),\n",
    "    color=\"#5865F2\",\n",
    "    edgecolor=\"grey\",\n",
    ")\n",
    "plt.xlabel(\" \")\n",
    "plt.ylabel(\"Probabilidad\")\n",
    "plt.title(\"Distribución HG \\npara [40,7,32]\")\n",
    "plt.xticks(\n",
    "    np.arange(min(geom_numeros), max(geom_numeros) + 1, 2.0)\n",
    ")\n",
    "plt.show()"
   ]
  },
  {
   "cell_type": "markdown",
   "id": "e216300a",
   "metadata": {},
   "source": [
    "----"
   ]
  },
  {
   "cell_type": "markdown",
   "id": "V1rp8sMJpwiz",
   "metadata": {
    "id": "V1rp8sMJpwiz"
   },
   "source": [
    "$\\color{red}{\\text{Ejercicio 6.}}$ Una compañía petrolera realiza un estudio geológico que indica que un pozo petrolero exploratorio debería tener un 20% de posibilidades de encontrar petróleo.\n",
    "\n",
    "- ¿Cuál es la probabilidad de que el primer pozo se produzca en el tercer pozo perforado?\n",
    "\n",
    "- ¿Cuál es la probabilidad de que el tercer pozo se produzca en el séptimo pozo perforado?\n",
    "\n",
    "- ¿Cuál es la media y la varianza del número de pozos que se deben perforar si la compañía petrolera quiere establecer tres pozos productores?"
   ]
  },
  {
   "cell_type": "markdown",
   "id": "2a36be10",
   "metadata": {},
   "source": [
    "Para resolver estos problemas, utilizaremos la distribución geométrica y la distribución negativa. Vamos a desglosar cada pregunta.\n",
    "\n",
    "### 1. Probabilidad de que el primer pozo se produzca en el tercer pozo perforado\n",
    "\n",
    "La probabilidad de encontrar petróleo en un pozo es $(p = 0.2)$, y la probabilidad de no encontrar petróleo es $(q = 1 - p = 0.8)$.\n",
    "\n",
    "Queremos calcular la probabilidad de que el primer pozo productor sea el tercero. Esto significa que los primeros dos pozos deben fallar y el tercero debe tener éxito:\n",
    "\n",
    "$P(\\text{1ª éxito en 3ª}) = q^2 \\cdot p = (0.8)^2 \\cdot (0.2)$\n",
    "\n",
    "Calculamos:\n",
    "\n",
    "$P = 0.64 \\cdot 0.2 = 0.128$\n",
    "\n",
    "Por lo tanto, la probabilidad de que el primer pozo productor sea el tercero es $(\\boxed{0.128})$.\n"
   ]
  },
  {
   "cell_type": "code",
   "execution_count": 34,
   "id": "d6fbb8e4",
   "metadata": {},
   "outputs": [
    {
     "name": "stdout",
     "output_type": "stream",
     "text": [
      "Probabilidad de que el primer pozo productor sea el tercero: 0.1280\n"
     ]
    }
   ],
   "source": [
    "import scipy.stats as stats\n",
    "\n",
    "# Parámetros\n",
    "p = 0.2  # Probabilidad de encontrar petróleo\n",
    "q = 1 - p  # Probabilidad de no encontrar petróleo\n",
    "\n",
    "# Probabilidad de que el primer pozo productor sea el tercero\n",
    "prob_tercero = (q ** 2) * p\n",
    "print(f\"Probabilidad de que el primer pozo productor sea el tercero: {prob_tercero:.4f}\")"
   ]
  },
  {
   "cell_type": "markdown",
   "id": "498a0c12",
   "metadata": {},
   "source": [
    "---\n",
    "### 2. Probabilidad de que el tercer pozo se produzca en el séptimo pozo perforado\n",
    "\n",
    "En este caso, queremos que el tercer pozo productor sea el séptimo. Esto significa que debemos tener exactamente 2 pozos productores en los primeros 6 y el séptimo debe ser productor.\n",
    "\n",
    "Usamos la distribución binomial para contar cuántas formas hay de tener exactamente 2 éxitos en los primeros 6 ensayos, y luego multiplicamos por la probabilidad de que el séptimo sea un éxito:\n",
    "\n",
    "$P(\\text{2 éxitos en 6}) = \\binom{6}{2} p^2 q^4$\n",
    "\n",
    "Y luego, multiplicamos por la probabilidad de éxito en el séptimo:\n",
    "\n",
    "$P(\\text{3ª éxito en 7ª}) = \\binom{6}{2} p^2 q^4 \\cdot p$\n",
    "\n",
    "Calculamos:\n",
    "\n",
    "$\\binom{6}{2} = \\frac{6!}{2!(6-2)!} = 15$\n",
    "\n",
    "Ahora, sustituyendo los valores:\n",
    "\n",
    "$P = 15 \\cdot (0.2)^3 \\cdot (0.8)^4$\n",
    "\n",
    "Calculamos cada parte:\n",
    "\n",
    "$(0.2)^3 = 0.008$\n",
    "\n",
    "$(0.8)^4 = 0.4096$\n",
    "\n",
    "Entonces,\n",
    "\n",
    "$P = 15 \\cdot 0.008 \\cdot 0.4096 \\approx 0.06144$\n",
    "\n",
    "Por lo tanto, la probabilidad de que el tercer pozo productor sea el séptimo es $\\boxed{0.0614}$.\n"
   ]
  },
  {
   "cell_type": "code",
   "execution_count": 35,
   "id": "33c13164",
   "metadata": {},
   "outputs": [
    {
     "name": "stdout",
     "output_type": "stream",
     "text": [
      "Probabilidad de que el tercer pozo productor sea el séptimo: 0.0492\n"
     ]
    }
   ],
   "source": [
    "# Número de éxitos deseados\n",
    "r = 3  # Tercer pozo productor\n",
    "n = 6  # Primeros 6 pozos\n",
    "\n",
    "# Probabilidad de que el tercer pozo productor sea el séptimo\n",
    "prob_tercero_en_septimo = stats.binom.pmf(r - 1, n, p) * p\n",
    "print(f\"Probabilidad de que el tercer pozo productor sea el séptimo: {prob_tercero_en_septimo:.4f}\")"
   ]
  },
  {
   "cell_type": "markdown",
   "id": "38884466",
   "metadata": {},
   "source": [
    "---\n",
    "### 3. Media y varianza del número de pozos para establecer tres pozos productores\n",
    "\n",
    "Para establecer $(r = 3)$ pozos productores, utilizamos la distribución negativa. La media $E(X)$ y la varianza $Var(X)$ para una distribución negativa son:\n",
    "\n",
    "- **Media**:\n",
    "$E(X) = \\frac{r}{p} = \\frac{3}{0.2} = 15$\n",
    "\n",
    "- **Varianza**:\n",
    "$Var(X) = \\frac{r(1-p)}{p^2} = \\frac{3 \\cdot 0.8}{(0.2)^2} = \\frac{2.4}{0.04} = 60$\n",
    "\n",
    "Por lo tanto, la media del número de pozos que se deben perforar para establecer tres pozos productores es $(15)$ y la varianza es $(60)$.\n",
    "\n",
    "Resumiendo:\n",
    "\n",
    "- Media: $(\\boxed{15})$\n",
    "- Varianza: $(\\boxed{60})$"
   ]
  },
  {
   "cell_type": "code",
   "execution_count": 36,
   "id": "5ea3379c",
   "metadata": {},
   "outputs": [
    {
     "name": "stdout",
     "output_type": "stream",
     "text": [
      "Media del número de pozos: 15.0000\n",
      "Varianza del número de pozos: 60.0000\n"
     ]
    }
   ],
   "source": [
    "# Media y varianza para la distribución negativa\n",
    "r = 3  # Número de pozos productores deseados\n",
    "\n",
    "# Media\n",
    "media = r / p\n",
    "# Varianza\n",
    "varianza = (r * (1 - p)) / (p ** 2)\n",
    "\n",
    "print(f\"Media del número de pozos: {media:.4f}\")\n",
    "print(f\"Varianza del número de pozos: {varianza:.4f}\")"
   ]
  },
  {
   "cell_type": "markdown",
   "id": "afd88521",
   "metadata": {},
   "source": [
    "---"
   ]
  }
 ],
 "metadata": {
  "colab": {
   "provenance": []
  },
  "kernelspec": {
   "display_name": "Python 3 (ipykernel)",
   "language": "python",
   "name": "python3"
  },
  "language_info": {
   "codemirror_mode": {
    "name": "ipython",
    "version": 3
   },
   "file_extension": ".py",
   "mimetype": "text/x-python",
   "name": "python",
   "nbconvert_exporter": "python",
   "pygments_lexer": "ipython3",
   "version": "3.8.13"
  }
 },
 "nbformat": 4,
 "nbformat_minor": 5
}
