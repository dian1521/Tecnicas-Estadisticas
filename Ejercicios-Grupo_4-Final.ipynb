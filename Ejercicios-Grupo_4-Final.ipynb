{
 "cells": [
  {
   "cell_type": "markdown",
   "metadata": {},
   "source": [
    "<div>\n",
    "\n",
    "<img src=\"https://www.bunam.unam.mx/extranjero/img/logoUNAM.svg\" alt=\"Drawing\" style=\"width: 750px;\"/>\n",
    "\n",
    "</div>"
   ]
  },
  {
   "cell_type": "markdown",
   "metadata": {},
   "source": [
    "<div style=\"text-align: center\"><font size=5><b>\n",
    "Facultad de Estudios Superiores Acatlán\n",
    "</b></font></div>\n",
    "\n",
    "<div style=\"text-align: center\"><font size=5><b>\n",
    "Diplomado Técnicas Estadísticas y Minería de datos\n",
    "</b></font></div>\n",
    "\n",
    "</font></div></div>\n",
    "\n",
    "<div style=\"text-align: center\"><font size=5><b>\n",
    "EQUIPO 4\n",
    "</b></font></div>\n",
    "\n",
    "</font></div></div>\n",
    "\n",
    "<div style=\"text-align: center\"><font size=4><b>\n",
    "Profesora: \n",
    "</b></font></div>\n",
    "\n",
    "<div style=\"color:blue\"><div style=\"text-align: center\"><font size=4>\n",
    "Act. Claudia Cristina Reyes Montes de Oca\n",
    "</font></div></div>\n",
    "\n",
    "</font></div></div>\n",
    "\n",
    "<div style=\"text-align: center\"><font size=4><b>\n",
    "Alumnos:\n",
    "</b></font></div>\n",
    "\n",
    "<div style=\"color:blue\"><div style=\"text-align: center\"><font size=3>\n",
    "Leticia Magali Cruz Ramírez\n",
    "    \n",
    "<div style=\"color:blue\">\n",
    "Diana Laura García Iniesta\n",
    "</div>\n",
    "    \n",
    "<div style=\"color:blue\">\n",
    "Angel Fernando Ortega Vergara\n",
    "</div>\n",
    "    \n",
    "<div style=\"color:blue\">\n",
    "Alberto Pérez Contreras\n",
    "</div>\n",
    "    \n",
    "<div style=\"color:blue\">\n",
    "Miguel Alfonso Gómez Cordero\n",
    "</div>\n",
    "    \n",
    "</font></div></div>\n",
    "\n",
    "    \n",
    "<div style=\"text-align: center\"><font size=4><b>\n",
    "Fecha:\n",
    "</b></font></div>\n",
    "\n",
    "<div style=\"color:blue\"><div style=\"text-align: center\"><font size=3>\n",
    "6 de octubre de 2024\n",
    "</font></div></div>\n"
   ]
  },
  {
   "cell_type": "markdown",
   "metadata": {},
   "source": [
    "---"
   ]
  },
  {
   "cell_type": "markdown",
   "metadata": {
    "id": "DBQyaEKLGnwg"
   },
   "source": [
    "## 1. Estimador Máximo Verósimil\n",
    "\n",
    "- Una v.a $X$, es exponencial con parámetro $\\lambda >0$ si $$\\mathbb{P}(X)=1-e^{-\\lambda x}, x >0 $$\n",
    "\n",
    "\n",
    "Calcular el EMV\n",
    "\n",
    "- Supongamos que la vida útil de los focos de cierta marca se modela mediante una distribución exponencial con parámetro desconocido $\\lambda$. Probamos 5 focos y encontramos que la vida útil de $2,3,1,3$ y $4$ años respectivamente. ¿Cual es el EMV para $\\lambda$?"
   ]
  },
  {
   "cell_type": "markdown",
   "metadata": {},
   "source": [
    "---"
   ]
  },
  {
   "cell_type": "markdown",
   "metadata": {},
   "source": [
    "### Desarrollo\n",
    "\n",
    "\n",
    "Para calcular el **Estimador de Máxima Verosimilitud (EMV)** de la función de distribución  $𝐹(𝑥) = 1 − 𝑒^{−𝜆𝑥}$, que es la función acumulativa de una distribución exponencial, seguimos estos pasos:\n",
    "\n",
    "Para encontrar el **Estimador de Máxima Verosimilitud (EMV)** para el parámetro **$\\lambda$** de una distribución exponencial, comenzamos con la función de verosimilitud.\n",
    "\n",
    "La función de densidad de probabilidad de una distribución exponencial es:\n",
    "\n",
    "$$f(x; \\lambda) = \\lambda e^{-\\lambda x}$$\n",
    "\n",
    "\n",
    "Para $n$ observaciones independientes $x_1, x_2, \\ldots, x_n$, la función de verosimilitud $L(\\lambda)$ se define como:\n",
    "\n",
    "$$\n",
    "L(\\lambda) = \\prod_{i=1}^{n} f(x_i; \\lambda) = \\prod_{i=1}^{n} \\lambda e^{-\\lambda x_i} = \\lambda^n e^{-\\lambda \\sum_{i=1}^{n} x_i}\n",
    "$$\n",
    "\n",
    "Para el conjunto de datos $2, 3, 1, 3, 4$ años, tenemos $n = 5$ y:\n",
    "\n",
    "$$\n",
    "\\sum_{i=1}^{5} x_i = 2 + 3 + 1 + 3 + 4 = 13\n",
    "$$\n",
    "\n",
    "Por lo tanto, la función de verosimilitud se convierte en:\n",
    "\n",
    "$$\n",
    "L(\\lambda) = \\lambda^5 e^{-13\\lambda}\n",
    "$$\n",
    "\n",
    "Para encontrar el EMV, tomamos el logaritmo de la función de verosimilitud:\n",
    "\n",
    "$$log  l(\\lambda) = log \\lambda^{n} e^{-\\lambda \\sum_{i} x_{i}} = n log(\\lambda) - \\lambda \\sum_{i} x_{i}$$\n",
    "\n",
    "\n",
    "$$\n",
    "\\log L(\\lambda) = 5 \\log \\lambda - 13\\lambda\n",
    "$$\n",
    "\n",
    "Derivamos con respecto a $\\lambda$ e igualamos a cero para encontrar el máximo:\n",
    "\n",
    "$$\n",
    "\\frac{d}{d\\lambda} (\\log L(\\lambda)) = \\frac{5}{\\lambda} - 13 = 0\n",
    "$$\n",
    "\n",
    "Resolviendo la ecuación:\n",
    "\n",
    "$$\n",
    "\\frac{5}{\\lambda} = 13 \\quad \\Rightarrow \\quad \\lambda = \\frac{5}{13}\n",
    "$$\n",
    "\n",
    "Por lo tanto, el Estimador de Máxima Verosimilitud para $\\lambda\\$ es:\n",
    "\n",
    "$$\n",
    "\\hat{\\lambda} = \\frac{5}{13} \\approx 0.3846\n",
    "$$"
   ]
  },
  {
   "cell_type": "code",
   "execution_count": 1,
   "metadata": {},
   "outputs": [
    {
     "name": "stdout",
     "output_type": "stream",
     "text": [
      "El Estimador de Máxima Verosimilitud para λ es: 0.384615384615385\n"
     ]
    }
   ],
   "source": [
    "import numpy as np\n",
    "import sympy as sp\n",
    "\n",
    "# Datos de vida útil de los focos\n",
    "vida_util = np.array([2, 3, 1, 3, 4])\n",
    "\n",
    "# Número de observaciones\n",
    "n = len(vida_util)\n",
    "\n",
    "# Sumar la vida útil\n",
    "suma_vida_util = np.sum(vida_util)\n",
    "\n",
    "# Definimos la variable simbólica para lambda\n",
    "lambda_symbol = sp.symbols('lambda')\n",
    "\n",
    "# Definimos la función de verosimilitud\n",
    "log_likelihood = n * sp.log(lambda_symbol) - suma_vida_util * lambda_symbol\n",
    "\n",
    "# Derivamos la log-verosimilitud con respecto a lambda\n",
    "derivada = sp.diff(log_likelihood, lambda_symbol)\n",
    "\n",
    "# Encontramos el EMV resolviendo la ecuación derivada = 0\n",
    "solucion = sp.solve(derivada, lambda_symbol)\n",
    "\n",
    "# Mostramos el resultado\n",
    "emv_lambda = solucion[0].evalf()\n",
    "print(f\"El Estimador de Máxima Verosimilitud para λ es: {emv_lambda}\")"
   ]
  },
  {
   "cell_type": "markdown",
   "metadata": {},
   "source": [
    "---"
   ]
  },
  {
   "cell_type": "markdown",
   "metadata": {},
   "source": [
    "- Suponga que se tiene una variable aleatoria discreta $X$ con densidad:\n",
    "\t\\begin{align*}\n",
    "\tP(X=0)&=\\frac{2}{3}\\theta,\\\\\n",
    "\tP(X=1)&=\\frac{1}{3}\\theta,\\\\\n",
    "\tP(X=2)&=\\frac{2}{3}(1-\\theta),\\\\\n",
    "\tP(X=3)&=\\frac{1}{3}(1-\\theta)\n",
    "\t\\end{align*}\n",
    "  con $\\theta\\in [0,1]$. Se toman las siguientes $10$ observaciones independientes de acuerdo a la distribución dada:\n",
    "  $$(3, 0, 2, 1, 3, 2, 1, 0, 2, 1).$$\n",
    "  Encuentra el EMV de $\\theta$."
   ]
  },
  {
   "cell_type": "markdown",
   "metadata": {},
   "source": [
    "### Desarrollo\n",
    "\n",
    "Para encontrar el estimador de máxima verosimilitud (EMV) de $\\theta$ a partir de las observaciones dadas, primero debemos calcular la verosimilitud.\n",
    "\n",
    "Los datos observados son $(3, 0, 2, 1, 3, 2, 1, 0, 2, 1)$. Contemos la frecuencia de cada valor:\n",
    "\n",
    "- $(X = 0)$: 2 veces\n",
    "- $(X = 1)$: 3 veces\n",
    "- $(X = 2)$: 3 veces\n",
    "- $(X = 3)$: 2 veces\n",
    "\n",
    "Ahora, la función de verosimilitud $L(\\theta)$ se expresa como el producto de las probabilidades:\n",
    "\n",
    "$$\n",
    "L(\\theta) = P(X=0)^{n_0} \\cdot P(X=1)^{n_1} \\cdot P(X=2)^{n_2} \\cdot P(X=3)^{n_3}\n",
    "$$\n",
    "\n",
    "donde $n_i$ son las frecuencias observadas:\n",
    "\n",
    "$$\n",
    "L(\\theta) = \\left( \\frac{2}{3}\\theta \\right)^2 \\cdot \\left( \\frac{1}{3}\\theta \\right)^3 \\cdot \\left( \\frac{2}{3}(1-\\theta) \\right)^3 \\cdot \\left( \\frac{1}{3}(1-\\theta) \\right)^2\n",
    "$$\n",
    "\n",
    "Simplificando:\n",
    "\n",
    "$$\n",
    "L(\\theta) = \\frac{2^2 \\cdot 1^3 \\cdot 2^3 \\cdot 1^2}{3^{10}} \\theta^{2+3} (1-\\theta)^{3+2} = \\frac{4 \\cdot 8}{3^{10}} \\theta^5 (1-\\theta)^5\n",
    "$$\n",
    "\n",
    "Para maximizar $L(\\theta)$, maximizamos el logaritmo de la verosimilitud:\n",
    "\n",
    "$$\n",
    "\\ell(\\theta) = \\log L(\\theta) = \\log\\left(\\frac{32}{3^{10}}\\right) + 5\\log(\\theta) + 5\\log(1-\\theta)\n",
    "$$\n",
    "\n",
    "Derivamos con respecto a $\\theta$ y igualamos a cero para encontrar el máximo:\n",
    "\n",
    "$$\n",
    "\\frac{d\\ell}{d\\theta} = \\frac{5}{\\theta} - \\frac{5}{1-\\theta} = 0\n",
    "$$\n",
    "\n",
    "Resolviendo:\n",
    "\n",
    "$$\n",
    "\\frac{5(1-\\theta) - 5\\theta}{\\theta(1-\\theta)} = 0 \\implies 1 - 2\\theta = 0 \\implies \\theta = \\frac{1}{2}\n",
    "$$\n",
    "\n",
    "Así, el EMV de $\\theta$ es:\n",
    "\n",
    "$$\n",
    "\\hat{\\theta} = \\frac{1}{2}\n",
    "$$\n",
    "\n",
    "\n",
    "El **Estimador de Máxima Verosimilitud (EMV)** de $\\theta$ es $\\hat{\\theta} = \\frac{1}{2}$."
   ]
  },
  {
   "cell_type": "code",
   "execution_count": 2,
   "metadata": {},
   "outputs": [
    {
     "name": "stdout",
     "output_type": "stream",
     "text": [
      "El EMV de theta es: 0.500000000000000\n"
     ]
    }
   ],
   "source": [
    "import numpy as np\n",
    "import sympy as sp\n",
    "\n",
    "# Observaciones\n",
    "data = np.array([3, 0, 2, 1, 3, 2, 1, 0, 2, 1])\n",
    "\n",
    "# Contar frecuencias\n",
    "n_0 = np.sum(data == 0)\n",
    "n_1 = np.sum(data == 1)\n",
    "n_2 = np.sum(data == 2)\n",
    "n_3 = np.sum(data == 3)\n",
    "\n",
    "# Definir la variable simbólica\n",
    "theta = sp.symbols('theta')\n",
    "\n",
    "# Función de verosimilitud\n",
    "L = (2/3 * theta)**n_0 * (1/3 * theta)**n_1 * (2/3 * (1-theta))**n_2 * (1/3 * (1-theta))**n_3\n",
    "\n",
    "# Logaritmo de la verosimilitud\n",
    "log_L = sp.log(L)\n",
    "\n",
    "# Derivar y encontrar el EMV\n",
    "derivada = sp.diff(log_L, theta)\n",
    "solucion = sp.solve(derivada, theta)\n",
    "\n",
    "# Resultado\n",
    "EMV_theta = solucion[0]\n",
    "print(f\"El EMV de theta es: {EMV_theta.evalf()}\")\n"
   ]
  },
  {
   "cell_type": "markdown",
   "metadata": {},
   "source": [
    "---"
   ]
  },
  {
   "cell_type": "markdown",
   "metadata": {},
   "source": [
    "## 2. Intervalos de confianza\n",
    "\n",
    "- En una encuesta de la UP, 225 estudiantes son seleccionados al azar de los que toman cálculo y se les pregunta si cálculo es su materia favorita. 100 estudiantes responden que el cálculo es su materia favorita. Proporcione un intervalo de confianza del 95 %  para la proporción de todos los estudiantes que toman cálculo y que la consideran su materia favorita.  \n",
    "\n",
    "\n",
    "- Los datos\n",
    "\t$$1, 2, 3, 4$$\n",
    "  \n",
    "  se toman a partir de una distribución normal $N(\\mu,\\sigma^2)$ con $\\mu$ desconocida."
   ]
  },
  {
   "cell_type": "markdown",
   "metadata": {},
   "source": [
    "### Desarrollo\n",
    "\n",
    "Para calcular el intervalo de confianza al 95% para la proporción de estudiantes que consideran el Cálculo como su materia favorita, utilizamos la fórmula:\n",
    "\n",
    "$$\n",
    "\\hat{p} = \\frac{x}{n} = \\frac{100}{225} \\approx 0.444\n",
    "$$\n",
    "\n",
    "Donde:\n",
    "- $x = 100$ (número de estudiantes que respondieron afirmativamente)\n",
    "- $n = 225$ (número total de estudiantes)\n",
    "\n",
    "El error estándar (EE) se calcula como:\n",
    "\n",
    "$$\n",
    "EE = \\sqrt{\\frac{\\hat{p}(1 - \\hat{p})}{n}} = \\sqrt{\\frac{0.444(1 - 0.444)}{225}} \\approx 0.033\n",
    "$$\n",
    "\n",
    "Para un nivel de confianza del 95%, el valor crítico de $z$ es aproximadamente 1.96. Entonces, el intervalo de confianza es:\n",
    "\n",
    "$$\n",
    "IC = \\hat{p} \\pm z \\cdot EE = 0.444 \\pm 1.96 \\cdot 0.033\n",
    "$$\n",
    "\n",
    "Calculando:\n",
    "\n",
    "$$\n",
    "IC \\approx 0.444 \\pm 0.065\n",
    "$$\n",
    "\n",
    "Esto da como resultado:\n",
    "\n",
    "$$\n",
    "IC \\approx (0.379, 0.509)\n",
    "$$\n"
   ]
  },
  {
   "cell_type": "code",
   "execution_count": 3,
   "metadata": {},
   "outputs": [
    {
     "name": "stdout",
     "output_type": "stream",
     "text": [
      "Intervalo de confianza al 95% para la proporción: (0.3795, 0.509)\n"
     ]
    }
   ],
   "source": [
    "import numpy as np\n",
    "import scipy.stats as stats\n",
    "\n",
    "# Datos del problema\n",
    "n = 225  # Total de estudiantes\n",
    "x = 100  # Estudiantes que eligen Cálculo\n",
    "p_hat = x / n  # Proporción muestral\n",
    "\n",
    "# Intervalo de confianza para la proporción al 95%\n",
    "alpha = 0.05\n",
    "z = stats.norm.ppf(1 - alpha/2)  # Valor crítico z para 95%\n",
    "\n",
    "# Error estándar\n",
    "se = np.sqrt(p_hat * (1 - p_hat) / n)\n",
    "\n",
    "# Límite inferior y superior\n",
    "ci_lower = p_hat - z * se\n",
    "ci_upper = p_hat + z * se\n",
    "\n",
    "print(f\"Intervalo de confianza al 95% para la proporción: ({ci_lower:.4f}, {ci_upper:.3f})\")"
   ]
  },
  {
   "cell_type": "markdown",
   "metadata": {},
   "source": [
    "---"
   ]
  },
  {
   "cell_type": "markdown",
   "metadata": {},
   "source": [
    "## 3. Intervalos de confianza\n",
    "\n",
    "- Los datos\n",
    "\t$$1, 2, 3, 4$$\n",
    "  \n",
    "  se toman a partir de una distribución normal $N(\\mu,\\sigma^2)$ con $\\mu$ desconocida."
   ]
  },
  {
   "cell_type": "markdown",
   "metadata": {},
   "source": [
    "### 3.1. Encuentra un intervalo de confianza al nivel de $90\\%$ para $\\mu$, dado que $\\sigma =2$."
   ]
  },
  {
   "cell_type": "markdown",
   "metadata": {},
   "source": [
    "Para calcular un intervalo de confianza al 90% para $\\mu$, usando la fórmula:\n",
    "\n",
    "$$\n",
    "IC = \\bar{x} \\pm z \\cdot \\frac{\\sigma}{\\sqrt{n}}\n",
    "$$\n",
    "\n",
    "Donde:\n",
    "- $\\bar{x} = \\frac{1 + 2 + 3 + 4}{4} = 2.5$\n",
    "- $n = 4$ (número de datos)\n",
    "- $\\sigma = 2$\n",
    "- $z$ para el 90% es aproximadamente 1.645.\n",
    "\n",
    "Calculamos el error estándar:\n",
    "\n",
    "$$\n",
    "EE = \\frac{2}{\\sqrt{4}} = 1\n",
    "$$\n",
    "\n",
    "Ahora, el intervalo de confianza es:\n",
    "\n",
    "$$\n",
    "IC = 2.5 \\pm 1.645 \\cdot 1\n",
    "$$\n",
    "\n",
    "Calculando:\n",
    "\n",
    "$$\n",
    "IC \\approx (0.855, 4.145)\n",
    "$$"
   ]
  },
  {
   "cell_type": "code",
   "execution_count": 4,
   "metadata": {
    "scrolled": true
   },
   "outputs": [
    {
     "name": "stdout",
     "output_type": "stream",
     "text": [
      "Intervalo de confianza para mu (sigma conocido): (0.8551463730485278, 4.144853626951472)\n"
     ]
    }
   ],
   "source": [
    "import numpy as np\n",
    "import scipy.stats as stats\n",
    "\n",
    "# Datos\n",
    "data = np.array([1, 2, 3, 4])\n",
    "\n",
    "# 1. Calcular intervalo de confianza para mu (sigma conocido)\n",
    "mu = np.mean(data)\n",
    "sigma = 2\n",
    "n = len(data)\n",
    "z = stats.norm.ppf(0.95)  # Valor crítico para 90% de confianza\n",
    "\n",
    "# Error estándar\n",
    "se = sigma / np.sqrt(n)\n",
    "\n",
    "# Intervalo de confianza\n",
    "ci_mu_known = (mu - z * se, mu + z * se)\n",
    "\n",
    "# Resultado\n",
    "print(f\"Intervalo de confianza para mu (sigma conocido): {ci_mu_known}\")"
   ]
  },
  {
   "cell_type": "markdown",
   "metadata": {},
   "source": [
    "### 3.2. Encuentra un intervalo de confianza al nivel de $90\\%$ para $\\mu$."
   ]
  },
  {
   "cell_type": "markdown",
   "metadata": {},
   "source": [
    "Si no se conoce $\\sigma$ y se usa la estimación de la muestra para el intervalo, se utiliza la desviación estándar muestral:\n",
    "\n",
    "$$\n",
    "s = \\sqrt{\\frac{\\sum (x_i - \\bar{x})^2}{n-1}} = \\sqrt{\\frac{(1-2.5)^2 + (2-2.5)^2 + (3-2.5)^2 + (4-2.5)^2}{3}} = \\sqrt{\\frac{5}{3}} \\approx 1.290\n",
    "$$\n",
    "\n",
    "El nuevo error estándar sería:\n",
    "\n",
    "$$\n",
    "EE = \\frac{s}{\\sqrt{n}} = \\frac{1.290}{4} \\approx 0.645\n",
    "$$\n",
    "\n",
    "Usamos $t$ en lugar de $z$ para el 90% (grados de libertad = 3):\n",
    "\n",
    "$$\n",
    "t \\approx 2.353\n",
    "$$\n",
    "\n",
    "El intervalo es:\n",
    "\n",
    "$$\n",
    "IC = 2.5 \\pm 2.353 \\cdot 0.645 \\approx (0.980, 4.019)\n",
    "$$"
   ]
  },
  {
   "cell_type": "code",
   "execution_count": 5,
   "metadata": {},
   "outputs": [
    {
     "name": "stdout",
     "output_type": "stream",
     "text": [
      "Intervalo de confianza para mu (sigma desconocido): (0.980910434906507, 4.019089565093493)\n"
     ]
    }
   ],
   "source": [
    "# 2. Calcular intervalo de confianza para mu (sigma desconocido)\n",
    "s = np.std(data, ddof=1)  # Desviación estándar muestral\n",
    "t = stats.t.ppf(0.95, df=n-1)  # Valor crítico t\n",
    "\n",
    "# Error estándar\n",
    "se_unknown = s / np.sqrt(n)\n",
    "\n",
    "# Intervalo de confianza\n",
    "ci_mu_unknown = (mu - t * se_unknown, mu + t * se_unknown)\n",
    "\n",
    "# Resultado\n",
    "print(f\"Intervalo de confianza para mu (sigma desconocido): {ci_mu_unknown}\")"
   ]
  },
  {
   "cell_type": "markdown",
   "metadata": {},
   "source": [
    "### 3.3. Encuentra un intervalo de confianza al nivel de $90\\%$ para $\\sigma^2$."
   ]
  },
  {
   "cell_type": "markdown",
   "metadata": {},
   "source": [
    "Utilizamos el estadístico chi-cuadrado para estimar el intervalo de confianza para \\( \\sigma^2 \\):\n",
    "\n",
    "$$\n",
    "IC = \\left( \\frac{(n-1)s^2}{\\chi^2_{1-\\alpha/2, n-1}}, \\frac{(n-1)s^2}{\\chi^2_{\\alpha/2, n-1}} \\right)\n",
    "$$\n",
    "\n",
    "Donde $s^2$ es la varianza muestral y $n-1 = 3$.\n",
    "\n",
    "Calculamos $s^2$:\n",
    "\n",
    "$$\n",
    "s^2 \\approx 0.833\n",
    "$$\n",
    "\n",
    "Los valores críticos de $\\chi^2$ para $n-1 = 3$ son:\n",
    "- $\\chi^2_{0.05, 3} \\approx 7.815$\n",
    "- $\\chi^2_{0.95, 3} \\approx 0.584$\n",
    "\n",
    "El intervalo es:\n",
    "\n",
    "$$\n",
    "IC \\approx \\left( \\frac{3 \\cdot 0.833}{7.815}, \\frac{3 \\cdot 0.833}{0.584} \\right) \\approx (0.639, 14.210)\n",
    "$$\n"
   ]
  },
  {
   "cell_type": "code",
   "execution_count": 6,
   "metadata": {
    "scrolled": true
   },
   "outputs": [
    {
     "name": "stdout",
     "output_type": "stream",
     "text": [
      "Intervalo de confianza para sigma^2: (0.6398175421974498, 14.210749829597594)\n"
     ]
    }
   ],
   "source": [
    "# 3. Intervalo de confianza para sigma^2\n",
    "chi2_lower = stats.chi2.ppf(0.05, df=n-1)\n",
    "chi2_upper = stats.chi2.ppf(0.95, df=n-1)\n",
    "\n",
    "var = s**2\n",
    "ci_sigma_squared = ((n-1) * var / chi2_upper, (n-1) * var / chi2_lower)\n",
    "\n",
    "# Resultado\n",
    "print(f\"Intervalo de confianza para sigma^2: {ci_sigma_squared}\")"
   ]
  }
 ],
 "metadata": {
  "colab": {
   "provenance": []
  },
  "kernelspec": {
   "display_name": "Python 3 (ipykernel)",
   "language": "python",
   "name": "python3"
  },
  "language_info": {
   "codemirror_mode": {
    "name": "ipython",
    "version": 3
   },
   "file_extension": ".py",
   "mimetype": "text/x-python",
   "name": "python",
   "nbconvert_exporter": "python",
   "pygments_lexer": "ipython3",
   "version": "3.8.13"
  }
 },
 "nbformat": 4,
 "nbformat_minor": 1
}
