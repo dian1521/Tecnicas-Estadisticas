{
 "cells": [
  {
   "cell_type": "markdown",
   "id": "6e3cd22e",
   "metadata": {},
   "source": [
    "# Demostrar la Esperanza y Varianza de una Función Uniforme"
   ]
  },
  {
   "cell_type": "markdown",
   "id": "d73b20b7",
   "metadata": {},
   "source": [
    "Si $\\displaystyle X$ es una variable aleatoria tal que $\\displaystyle X \\sim \\operatorname{U} ⁡(a,b)$  entonces la variable aleatoria $\\displaystyle X$ satisface las siguientes propiedades:\n",
    "\n",
    "## Esperanza\n",
    "\n",
    "La **esperanza** de la variable aleatoria $\\displaystyle X$ es:\n",
    "\n",
    "\n",
    "$\\displaystyle \\operatorname {E} [X]={\\frac {a+b}{2}}$\n",
    "\n",
    "Esta se demuestra fácilmente utilizando la definición de esperanza matemática\n",
    "\n",
    "\n",
    "$\\displaystyle \\operatorname {E} [X] = \\int _{a}^{b}{\\frac {x}{b-a}}dx$\n",
    "\n",
    "$\\displaystyle \\operatorname {E} [X]  ={\\frac {1}{b-a}}{\\frac {x^{2}}{2}}{\\bigg |}_{a}^{b}$\n",
    "\n",
    "\n",
    "$\\displaystyle \\operatorname {E} [X]  ={\\frac {b^{2}-a^{2}}{2(b-a)}}$\n",
    "\n",
    "\n",
    "$\\displaystyle \\operatorname {E} [X]  ={\\frac {(b-a)(b+a)}{2(b-a)}}$\n",
    "\n",
    "\n",
    "$\\displaystyle \\operatorname {E} [X]  ={\\frac {a+b}{2}}$"
   ]
  },
  {
   "cell_type": "markdown",
   "id": "7dc75371",
   "metadata": {},
   "source": [
    "---"
   ]
  },
  {
   "cell_type": "markdown",
   "id": "ead727fa",
   "metadata": {},
   "source": [
    "## Varianza"
   ]
  },
  {
   "cell_type": "markdown",
   "id": "1e0d3971",
   "metadata": {},
   "source": [
    "$\\displaystyle \\operatorname {V} [X] = \\int _{-\\infty}^{\\infty}{x^{2} f(x)}dx - \\operatorname {E^{2}} (X)$\n",
    "\n",
    "$\\displaystyle \\operatorname {V} [X] = \\int _{a}^{b}{\\frac {1}{b-a}x^{2}}dx - \\frac {(a+b)^{2}}{4}$\n",
    "\n",
    "$\\displaystyle \\operatorname {V} [X]  ={\\frac {x^{3}}{3(b-a)}}{\\bigg |}_{x = a}^{x = b} - \\frac {a^{2} + 2ab + b^{2}}{4}$\n",
    "\n",
    "$\\displaystyle \\operatorname {V} [X]  ={\\frac {b^{3} - a^{3}}{3(b-a)}} - \\frac {a^{2} + 2ab + b^{2}}{4}$\n",
    "\n",
    "$\\displaystyle \\operatorname {V} [X]  ={\\frac {b^{2} + ab + a^{2}}{3}} - \\frac {a^{2} + 2ab + b^{2}}{4}$\n",
    "\n",
    "$\\displaystyle \\operatorname {V} [X]  ={\\frac {(b - a)^{2}}{12}}$\n",
    "\n"
   ]
  }
 ],
 "metadata": {
  "kernelspec": {
   "display_name": "Python 3 (ipykernel)",
   "language": "python",
   "name": "python3"
  },
  "language_info": {
   "codemirror_mode": {
    "name": "ipython",
    "version": 3
   },
   "file_extension": ".py",
   "mimetype": "text/x-python",
   "name": "python",
   "nbconvert_exporter": "python",
   "pygments_lexer": "ipython3",
   "version": "3.8.13"
  }
 },
 "nbformat": 4,
 "nbformat_minor": 5
}
