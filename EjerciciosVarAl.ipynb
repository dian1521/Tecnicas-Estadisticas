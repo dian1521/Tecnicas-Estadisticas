{
  "nbformat": 4,
  "nbformat_minor": 0,
  "metadata": {
    "colab": {
      "provenance": []
    },
    "kernelspec": {
      "name": "python3",
      "display_name": "Python 3"
    },
    "language_info": {
      "name": "python"
    }
  },
  "cells": [
    {
      "cell_type": "markdown",
      "source": [
        "Vamos a modelar a través de un experimento aleatorio, la ley **(función de densidad de una v.a. uniforme discreta)**"
      ],
      "metadata": {
        "id": "7zG-Dxag5pjh"
      }
    },
    {
      "cell_type": "markdown",
      "source": [
        "##Ejemplo de una v.a. uniforme\n",
        "\n",
        "Sea el experimento aleatorio de lanzar dos dados justos:\n",
        "* $\\Omega = \\{1, 2, 3, 4, 5, 6\\}\\times\\{1,2,3,4,5,6\\}$\n",
        "* $\\mathcal{F}=P(\\Omega)$\n",
        "* Para $w =(i,j)$ donde $i,j,\\in\\{1,...,6\\}$ talque\n",
        "$$\\mathbb{P}( \\{ \\omega\\} ) =\\frac{1}{36}$$\n",
        "\n",
        "Vamos a definir la siguiente variable aleatoria\n",
        "$$S: \\Omega \\to R_{S}$$\n",
        "\n",
        "donde $R_{S} \\{2,3,4,5,6,7,8,9,10,11,12\\}$\n",
        "\n",
        "Para que entendamos la ley de una v.a., basta con entender los siguientes datos\n",
        "\n",
        "$$\\{(k,\\mathbb{P}(S=k))\\}_{k\\in R_{S}}$$\n",
        "\n",
        "*Vamos a entender a $S$ como eventos.*\n",
        "Sea $S_{n}$ el evento de la suma de las caras es $n$.\n",
        "\n",
        "$$S_{n} = {(i,j)\\in \\Omega \\mid i+j=n}$$\n"
      ],
      "metadata": {
        "id": "-H6EZQ1_-OGe"
      }
    },
    {
      "cell_type": "code",
      "source": [
        "from itertools import product #para el producto cartesiano\n",
        "from fractions import Fraction"
      ],
      "metadata": {
        "id": "aKINDLW7CQo1"
      },
      "execution_count": null,
      "outputs": []
    },
    {
      "cell_type": "markdown",
      "source": [
        "Primero vamos a crear una función de **probabilidad global**"
      ],
      "metadata": {
        "id": "yBGeg2ZOCIjz"
      }
    },
    {
      "cell_type": "code",
      "source": [
        "def P(A, Omega):\n",
        "  P=Fraction(len(A),len(Omega))\n",
        "  return P"
      ],
      "metadata": {
        "id": "ZyvkLak3CWwE"
      },
      "execution_count": null,
      "outputs": []
    },
    {
      "cell_type": "code",
      "source": [
        "S_2={(i,j) for i in range(1,7) for j in range(1,7) if i+j ==2}\n",
        "S_2"
      ],
      "metadata": {
        "colab": {
          "base_uri": "https://localhost:8080/"
        },
        "id": "4KUv32Wv9SMM",
        "outputId": "48bd98b4-016c-4cc6-fbfc-36f7e619c76e"
      },
      "execution_count": null,
      "outputs": [
        {
          "output_type": "execute_result",
          "data": {
            "text/plain": [
              "{(1, 1)}"
            ]
          },
          "metadata": {},
          "execution_count": 34
        }
      ]
    },
    {
      "cell_type": "markdown",
      "source": [
        "***Nota:***\n",
        "Realizar esto para cada valor de $n$ quita tiempo.\n",
        "Vamos a hacer esto utilizando ***diccionarios.***"
      ],
      "metadata": {
        "id": "El03cw3jSSbk"
      }
    },
    {
      "cell_type": "code",
      "source": [
        "#Primero vamos a crear a nuestro espacio muestral Omega\n",
        "L=[i for i in range(1,7)] #lista por comprensión\n",
        "Omega = set(product(L,repeat=2))\n",
        "Omega"
      ],
      "metadata": {
        "colab": {
          "base_uri": "https://localhost:8080/"
        },
        "id": "rbwsFh8zSg2g",
        "outputId": "b58cb5ea-e7c1-4dc0-efd2-137453cbe773"
      },
      "execution_count": null,
      "outputs": [
        {
          "output_type": "execute_result",
          "data": {
            "text/plain": [
              "{(1, 1),\n",
              " (1, 2),\n",
              " (1, 3),\n",
              " (1, 4),\n",
              " (1, 5),\n",
              " (1, 6),\n",
              " (2, 1),\n",
              " (2, 2),\n",
              " (2, 3),\n",
              " (2, 4),\n",
              " (2, 5),\n",
              " (2, 6),\n",
              " (3, 1),\n",
              " (3, 2),\n",
              " (3, 3),\n",
              " (3, 4),\n",
              " (3, 5),\n",
              " (3, 6),\n",
              " (4, 1),\n",
              " (4, 2),\n",
              " (4, 3),\n",
              " (4, 4),\n",
              " (4, 5),\n",
              " (4, 6),\n",
              " (5, 1),\n",
              " (5, 2),\n",
              " (5, 3),\n",
              " (5, 4),\n",
              " (5, 5),\n",
              " (5, 6),\n",
              " (6, 1),\n",
              " (6, 2),\n",
              " (6, 3),\n",
              " (6, 4),\n",
              " (6, 5),\n",
              " (6, 6)}"
            ]
          },
          "metadata": {},
          "execution_count": 35
        }
      ]
    },
    {
      "cell_type": "code",
      "source": [
        "S={(i,j): i+j for i,j in Omega}\n",
        "S"
      ],
      "metadata": {
        "colab": {
          "base_uri": "https://localhost:8080/"
        },
        "id": "JTZfN8ExHRWt",
        "outputId": "a9025003-aa51-469e-8d88-7c2c21c36dd7"
      },
      "execution_count": null,
      "outputs": [
        {
          "output_type": "execute_result",
          "data": {
            "text/plain": [
              "{(3, 4): 7,\n",
              " (4, 3): 7,\n",
              " (3, 1): 4,\n",
              " (5, 4): 9,\n",
              " (4, 6): 10,\n",
              " (5, 1): 6,\n",
              " (2, 2): 4,\n",
              " (1, 6): 7,\n",
              " (2, 5): 7,\n",
              " (1, 3): 4,\n",
              " (6, 2): 8,\n",
              " (6, 5): 11,\n",
              " (4, 2): 6,\n",
              " (4, 5): 9,\n",
              " (3, 3): 6,\n",
              " (5, 6): 11,\n",
              " (3, 6): 9,\n",
              " (5, 3): 8,\n",
              " (2, 4): 6,\n",
              " (1, 2): 3,\n",
              " (2, 1): 3,\n",
              " (1, 5): 6,\n",
              " (6, 1): 7,\n",
              " (6, 4): 10,\n",
              " (3, 2): 5,\n",
              " (4, 1): 5,\n",
              " (3, 5): 8,\n",
              " (5, 2): 7,\n",
              " (4, 4): 8,\n",
              " (5, 5): 10,\n",
              " (1, 1): 2,\n",
              " (1, 4): 5,\n",
              " (2, 3): 5,\n",
              " (2, 6): 8,\n",
              " (6, 6): 12,\n",
              " (6, 3): 9}"
            ]
          },
          "metadata": {},
          "execution_count": 36
        }
      ]
    },
    {
      "cell_type": "code",
      "source": [
        "#Vamos a crear un diccionario por default de manera sintética y arreglada\n",
        "from collections import defaultdict\n",
        "dS = defaultdict(set) #lista\n",
        "dS"
      ],
      "metadata": {
        "colab": {
          "base_uri": "https://localhost:8080/"
        },
        "id": "TvgIXT_7S_eu",
        "outputId": "dabed841-d225-49e8-8d7d-0531303f8a6c"
      },
      "execution_count": null,
      "outputs": [
        {
          "output_type": "execute_result",
          "data": {
            "text/plain": [
              "defaultdict(set, {})"
            ]
          },
          "metadata": {},
          "execution_count": 45
        }
      ]
    },
    {
      "cell_type": "markdown",
      "source": [
        "Para collections ir a [link](https://docs.python.org/es/3/library/collections.html)"
      ],
      "metadata": {
        "id": "utJ5jVliTcCq"
      }
    },
    {
      "cell_type": "markdown",
      "source": [
        "Vamos a añadir elementos a un diccionario que está vacío."
      ],
      "metadata": {
        "id": "B5KoJ07mTj9L"
      }
    },
    {
      "cell_type": "code",
      "source": [
        "for i,j in S.items():\n",
        "  dS[j].add(i) #añadiendo al diccionario las llaves\n",
        "dS"
      ],
      "metadata": {
        "colab": {
          "base_uri": "https://localhost:8080/"
        },
        "id": "5cX6DCvEToOo",
        "outputId": "956a965d-36ee-4afa-ae32-7a6188f62c0b"
      },
      "execution_count": null,
      "outputs": [
        {
          "output_type": "execute_result",
          "data": {
            "text/plain": [
              "defaultdict(set,\n",
              "            {7: {(1, 6), (2, 5), (3, 4), (4, 3), (5, 2), (6, 1)},\n",
              "             4: {(1, 3), (2, 2), (3, 1)},\n",
              "             9: {(3, 6), (4, 5), (5, 4), (6, 3)},\n",
              "             10: {(4, 6), (5, 5), (6, 4)},\n",
              "             6: {(1, 5), (2, 4), (3, 3), (4, 2), (5, 1)},\n",
              "             8: {(2, 6), (3, 5), (4, 4), (5, 3), (6, 2)},\n",
              "             11: {(5, 6), (6, 5)},\n",
              "             3: {(1, 2), (2, 1)},\n",
              "             5: {(1, 4), (2, 3), (3, 2), (4, 1)},\n",
              "             2: {(1, 1)},\n",
              "             12: {(6, 6)}})"
            ]
          },
          "metadata": {},
          "execution_count": 46
        }
      ]
    },
    {
      "cell_type": "code",
      "source": [
        "leyS = {k : P(A, Omega) for k,A in dS.items()}\n",
        "leyS"
      ],
      "metadata": {
        "colab": {
          "base_uri": "https://localhost:8080/"
        },
        "id": "b9QMoYZyT0vL",
        "outputId": "af16b698-5523-49dd-f27a-99cdd230ad0b"
      },
      "execution_count": null,
      "outputs": [
        {
          "output_type": "execute_result",
          "data": {
            "text/plain": [
              "{7: Fraction(1, 6),\n",
              " 4: Fraction(1, 12),\n",
              " 9: Fraction(1, 9),\n",
              " 10: Fraction(1, 12),\n",
              " 6: Fraction(5, 36),\n",
              " 8: Fraction(5, 36),\n",
              " 11: Fraction(1, 18),\n",
              " 3: Fraction(1, 18),\n",
              " 5: Fraction(1, 9),\n",
              " 2: Fraction(1, 36),\n",
              " 12: Fraction(1, 36)}"
            ]
          },
          "metadata": {},
          "execution_count": 52
        }
      ]
    },
    {
      "cell_type": "markdown",
      "source": [
        "#Introducción a Pandas en Python\n",
        "\n",
        "**Pandas** es una biblioteca de Python muy popular para la manipulación y análisis de datos. Proporciona estructuras de datos de alto rendimiento como `Series` y `DataFrame`que hacen que trabajar con datos tabulares y series temporales sea fácil.\n",
        "\n"
      ],
      "metadata": {
        "id": "igMC_qHMT0Xe"
      }
    },
    {
      "cell_type": "markdown",
      "source": [
        "1. Importar *Pandas* para empezar a trabajar\n"
      ],
      "metadata": {
        "id": "v8rApTSCUWiR"
      }
    },
    {
      "cell_type": "code",
      "source": [
        "import pandas as pd"
      ],
      "metadata": {
        "id": "D31i7wp3Tbb4"
      },
      "execution_count": null,
      "outputs": []
    },
    {
      "cell_type": "markdown",
      "source": [
        "##Series en Pandas\n",
        "Una ***Series*** es una estructura de datos udimensionar (similar a una lista o un array de NumPy) pero con etiquetas.\n",
        "Aquí hay un ejemplo:"
      ],
      "metadata": {
        "id": "hjGlp6G-UhrE"
      }
    },
    {
      "cell_type": "code",
      "source": [
        "#Crear una serie\n",
        "serie = pd.Series([1, 3, 5, 7, 9], index=['a','b','c','d','e'])\n",
        "print(serie)"
      ],
      "metadata": {
        "colab": {
          "base_uri": "https://localhost:8080/"
        },
        "id": "HKUpr0AaUhQe",
        "outputId": "cc26e1dc-2edc-414b-a8dc-738dd3922978"
      },
      "execution_count": null,
      "outputs": [
        {
          "output_type": "stream",
          "name": "stdout",
          "text": [
            "a    1\n",
            "b    3\n",
            "c    5\n",
            "d    7\n",
            "e    9\n",
            "dtype: int64\n"
          ]
        }
      ]
    },
    {
      "cell_type": "code",
      "source": [
        "#Acceder a un elemento de la serie\n",
        "print(serie['c'])"
      ],
      "metadata": {
        "colab": {
          "base_uri": "https://localhost:8080/"
        },
        "id": "TzgKSynPVCQj",
        "outputId": "3ed3e01c-80fd-4427-b62a-40acf793ea02"
      },
      "execution_count": null,
      "outputs": [
        {
          "output_type": "stream",
          "name": "stdout",
          "text": [
            "5\n"
          ]
        }
      ]
    },
    {
      "cell_type": "markdown",
      "source": [
        "Regresando a nuestrO ejemplo de la suma de las caras del dato, tenemos:"
      ],
      "metadata": {
        "id": "CfaeT1EyVJdM"
      }
    },
    {
      "cell_type": "code",
      "source": [
        "leyS = pd.Series(leyS)\n",
        "leyS = leyS.sort_index()"
      ],
      "metadata": {
        "id": "K1xZcDPmVMuD"
      },
      "execution_count": null,
      "outputs": []
    },
    {
      "cell_type": "code",
      "source": [
        "leyS"
      ],
      "metadata": {
        "colab": {
          "base_uri": "https://localhost:8080/",
          "height": 429
        },
        "id": "wknmlYAGVTSI",
        "outputId": "5c16b15f-dd19-4583-da9d-fa48e23a9b9b"
      },
      "execution_count": null,
      "outputs": [
        {
          "output_type": "execute_result",
          "data": {
            "text/plain": [
              "2     1/36\n",
              "3     1/18\n",
              "4     1/12\n",
              "5      1/9\n",
              "6     5/36\n",
              "7      1/6\n",
              "8     5/36\n",
              "9      1/9\n",
              "10    1/12\n",
              "11    1/18\n",
              "12    1/36\n",
              "dtype: object"
            ],
            "text/html": [
              "<div>\n",
              "<style scoped>\n",
              "    .dataframe tbody tr th:only-of-type {\n",
              "        vertical-align: middle;\n",
              "    }\n",
              "\n",
              "    .dataframe tbody tr th {\n",
              "        vertical-align: top;\n",
              "    }\n",
              "\n",
              "    .dataframe thead th {\n",
              "        text-align: right;\n",
              "    }\n",
              "</style>\n",
              "<table border=\"1\" class=\"dataframe\">\n",
              "  <thead>\n",
              "    <tr style=\"text-align: right;\">\n",
              "      <th></th>\n",
              "      <th>0</th>\n",
              "    </tr>\n",
              "  </thead>\n",
              "  <tbody>\n",
              "    <tr>\n",
              "      <th>2</th>\n",
              "      <td>1/36</td>\n",
              "    </tr>\n",
              "    <tr>\n",
              "      <th>3</th>\n",
              "      <td>1/18</td>\n",
              "    </tr>\n",
              "    <tr>\n",
              "      <th>4</th>\n",
              "      <td>1/12</td>\n",
              "    </tr>\n",
              "    <tr>\n",
              "      <th>5</th>\n",
              "      <td>1/9</td>\n",
              "    </tr>\n",
              "    <tr>\n",
              "      <th>6</th>\n",
              "      <td>5/36</td>\n",
              "    </tr>\n",
              "    <tr>\n",
              "      <th>7</th>\n",
              "      <td>1/6</td>\n",
              "    </tr>\n",
              "    <tr>\n",
              "      <th>8</th>\n",
              "      <td>5/36</td>\n",
              "    </tr>\n",
              "    <tr>\n",
              "      <th>9</th>\n",
              "      <td>1/9</td>\n",
              "    </tr>\n",
              "    <tr>\n",
              "      <th>10</th>\n",
              "      <td>1/12</td>\n",
              "    </tr>\n",
              "    <tr>\n",
              "      <th>11</th>\n",
              "      <td>1/18</td>\n",
              "    </tr>\n",
              "    <tr>\n",
              "      <th>12</th>\n",
              "      <td>1/36</td>\n",
              "    </tr>\n",
              "  </tbody>\n",
              "</table>\n",
              "</div><br><label><b>dtype:</b> object</label>"
            ]
          },
          "metadata": {},
          "execution_count": 58
        }
      ]
    },
    {
      "cell_type": "markdown",
      "source": [
        "#Ejercicios.\n",
        "\n",
        "1. Documentar el colab\n",
        "2. Calcular la ley de las siguientes variables aleatorias.\n",
        "  * La diferencia de las caras es mayor que 1.\n",
        "  * La suma de las caras sea par.\n",
        "3. Verifica en cada caso, que:\n",
        "$$\\sum_{k\\in R_{X}}\\mathbb{P}(X=k) = 1$$\n",
        "4. Gráfica y calcula la función de distribución de la v.a. S (la suma de los resultados es n)   \n",
        "5. Sube tu notebook a GitHub\n"
      ],
      "metadata": {
        "id": "1oDROzlEVbBm"
      }
    },
    {
      "cell_type": "markdown",
      "source": [
        "# 2. Calcular la diferencia de las caras es mayor que 1"
      ],
      "metadata": {
        "id": "rhgH6x7ee9iy"
      }
    },
    {
      "cell_type": "code",
      "source": [
        "from itertools import product\n",
        "from fractions import Fraction"
      ],
      "metadata": {
        "id": "z_f6Fi6kgYaY"
      },
      "execution_count": null,
      "outputs": []
    },
    {
      "cell_type": "code",
      "source": [
        "# Definir la función de probabilidad\n",
        "def P(A, Omega):\n",
        "    P= Fraction(len(A), len(Omega))\n",
        "    return P"
      ],
      "metadata": {
        "id": "Z-SKZe3oge_9"
      },
      "execution_count": null,
      "outputs": []
    },
    {
      "cell_type": "code",
      "source": [
        "# Definir el espacio muestral Omega\n",
        "L = [i for i in range(1, 7)] # lista de resultados posibles\n",
        "Omega = set(product(L, repeat=2)) # producto cartesiano de las dos listas"
      ],
      "metadata": {
        "id": "nU6V2YWPgbEI"
      },
      "execution_count": null,
      "outputs": []
    },
    {
      "cell_type": "code",
      "source": [
        "mayor = {(i,j) for i, j in Omega if abs(i - j) > 1} #evento donde la diferencia de las caras es >1\n",
        "ley_mayor = P(mayor, Omega)\n",
        "ley_mayor"
      ],
      "metadata": {
        "id": "XvJmHL2Pgf9a",
        "colab": {
          "base_uri": "https://localhost:8080/"
        },
        "outputId": "a38742dc-87cc-4185-ce44-3c6f0daa759e"
      },
      "execution_count": null,
      "outputs": [
        {
          "output_type": "execute_result",
          "data": {
            "text/plain": [
              "Fraction(5, 9)"
            ]
          },
          "metadata": {},
          "execution_count": 78
        }
      ]
    },
    {
      "cell_type": "markdown",
      "source": [
        "#La suma de las caras es par"
      ],
      "metadata": {
        "id": "lkmwmJ7-jEYl"
      }
    },
    {
      "cell_type": "code",
      "source": [
        "E_par = {(i, j) for i, j in Omega if (i + j) % 2 == 0} # Evento donde la suma de las caras es par\n",
        "\n",
        "ley_par = P(E_par, Omega)\n",
        "ley_par # Ley de la variable aleatoria\n"
      ],
      "metadata": {
        "id": "R0XZ48uWjJbu",
        "colab": {
          "base_uri": "https://localhost:8080/"
        },
        "outputId": "4105f8b9-edd1-45e8-c5cc-0b4e9d775914"
      },
      "execution_count": null,
      "outputs": [
        {
          "output_type": "execute_result",
          "data": {
            "text/plain": [
              "Fraction(1, 2)"
            ]
          },
          "metadata": {},
          "execution_count": 79
        }
      ]
    },
    {
      "cell_type": "markdown",
      "source": [
        "#Validaciones"
      ],
      "metadata": {
        "id": "v662EBMflrVu"
      }
    },
    {
      "cell_type": "code",
      "source": [
        "# Definir los eventos disjuntos\n",
        "eventos = {\n",
        "    \"Diferencia > 1 y Suma Par\": {(i,j) for i, j in mayor if (i + j) % 2 == 0},\n",
        "    \"Diferencia > 1 y Suma Impar\": {(i,j) for i, j in mayor if (i + j) % 2 != 0},\n",
        "    \"Diferencia <= 1 y Suma Par\": {(i,j) for i, j in (Omega - mayor) if (i + j) % 2 == 0},\n",
        "    \"Diferencia <= 1 y Suma Impar\": {(i,j) for i, j in (Omega - mayor) if (i + j) % 2 != 0}\n",
        "}\n",
        "\n",
        "# Verificar que la suma de probabilidades sea 1 para los eventos disjuntos\n",
        "suma = sum(P(evento, Omega) for evento in eventos.values())\n",
        "suma\n"
      ],
      "metadata": {
        "id": "kBSgnqdNlojA",
        "colab": {
          "base_uri": "https://localhost:8080/"
        },
        "outputId": "d925de4f-17d1-4b42-d1ab-15ad0b9393aa"
      },
      "execution_count": null,
      "outputs": [
        {
          "output_type": "execute_result",
          "data": {
            "text/plain": [
              "Fraction(1, 1)"
            ]
          },
          "metadata": {},
          "execution_count": 81
        }
      ]
    },
    {
      "cell_type": "code",
      "source": [
        "import matplotlib.pyplot as plt\n",
        "import pandas as pd\n",
        "from itertools import product\n",
        "from fractions import Fraction\n",
        "\n",
        "# Definir el espacio muestral Omega\n",
        "L = [i for i in range(1, 7)]  # lista de resultados posibles de un dado\n",
        "Omega = set(product(L, repeat=2))  # producto cartesiano para lanzar dos dados\n",
        "\n",
        "# Definir la función de probabilidad\n",
        "def P(A, Omega):\n",
        "    return Fraction(len(A), len(Omega))\n",
        "\n",
        "# Obtener la variable aleatoria S (suma de los resultados de dos dados)\n",
        "S = {(i, j): i + j for i, j in Omega}\n",
        "\n",
        "# Crear un diccionario con la ley de probabilidad para cada suma\n",
        "ley_suma = {n: set((i, j) for i, j in Omega if i + j == n) for n in range(2, 13)}\n",
        "\n",
        "# Calcular la probabilidad de cada suma\n",
        "ley_prob_suma = {n: P(ley_suma[n], Omega) for n in ley_suma}\n",
        "\n",
        "# Crear un DataFrame con los resultados para poder graficar\n",
        "df_ley_prob_suma = pd.DataFrame(list(ley_prob_suma.items()), columns=[\"Suma\", \"Probabilidad\"])\n",
        "\n",
        "# Graficar la función de distribución\n",
        "df_ley_prob_suma[\"Distribucion_Acumulada\"] = df_ley_prob_suma[\"Probabilidad\"].cumsum()\n",
        "plt.figure(figsize=(7, 5))\n",
        "plt.step(df_ley_prob_suma[\"Suma\"], df_ley_prob_suma[\"Distribucion_Acumulada\"], where=\"post\", label=\"Distribución Acumulada\")\n",
        "plt.scatter(df_ley_prob_suma[\"Suma\"], df_ley_prob_suma[\"Distribucion_Acumulada\"], color='pink')\n",
        "plt.title(\"Función de Distribución Acumulada\")\n",
        "plt.suptitle(\"*Suma de Dados*\")\n",
        "plt.xlabel(\"Suma\")\n",
        "plt.ylabel(\"Probabilidad Acumulada\")\n",
        "plt.grid(True)\n",
        "plt.legend()\n",
        "plt.show()\n"
      ],
      "metadata": {
        "colab": {
          "base_uri": "https://localhost:8080/",
          "height": 515
        },
        "id": "Lnptk7F2C6hD",
        "outputId": "c278ee07-49c5-47c4-f295-4920ee2ec50f"
      },
      "execution_count": null,
      "outputs": [
        {
          "output_type": "display_data",
          "data": {
            "text/plain": [
              "<Figure size 700x500 with 1 Axes>"
            ],
            "image/png": "[encoded data removed]"
          },
          "metadata": {}
        }
      ]
    }
  ]
}